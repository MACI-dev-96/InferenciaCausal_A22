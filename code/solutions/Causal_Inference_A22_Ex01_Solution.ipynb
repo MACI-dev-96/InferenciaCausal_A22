{
  "cells": [
    {
      "cell_type": "markdown",
      "metadata": {
        "id": "view-in-github",
        "colab_type": "text"
      },
      "source": [
        "<a href=\"https://colab.research.google.com/github/ccaballeroh/InferenciaCausal_A22/blob/main/code/solutions/Causal_Inference_A22_Ex01_Solution.ipynb\" target=\"_parent\"><img src=\"https://colab.research.google.com/assets/colab-badge.svg\" alt=\"Open In Colab\"/></a>"
      ]
    },
    {
      "cell_type": "markdown",
      "metadata": {
        "id": "VsP4pGCFPXhZ"
      },
      "source": [
        "En esta celda escribe tu **nombre** y tu **programa** (ESCOM, MCC, MCIC o DCC)"
      ]
    },
    {
      "cell_type": "markdown",
      "metadata": {
        "id": "RVQLujIS1K50"
      },
      "source": [
        "# Análisis de salarios entre hombres y mujeres"
      ]
    },
    {
      "cell_type": "markdown",
      "metadata": {
        "id": "IAaEVoM5lxj4"
      },
      "source": [
        "Supongamos que trabajamos como _data scientists_ en una empresa y se nos proporciona un conjunto de datos sobre los salarios entre hombres y mujeres en la compañía.\n",
        "\n",
        "Con este conjunto de datos se nos pide contestar **¿cuál es la brecha de paga entre hombres y mujeres en la empresa?**"
      ]
    },
    {
      "cell_type": "markdown",
      "metadata": {
        "id": "IDol42GFYacy"
      },
      "source": [
        "## Preliminares\n",
        "\n",
        "Importa los módulos/paquetes necesarios."
      ]
    },
    {
      "cell_type": "code",
      "execution_count": 1,
      "metadata": {
        "colab": {
          "base_uri": "https://localhost:8080/"
        },
        "id": "uDrm6pj9UZRW",
        "outputId": "a3d45bc7-3b04-4c37-92ea-a89ab300d8a4"
      },
      "outputs": [
        {
          "output_type": "stream",
          "name": "stderr",
          "text": [
            "/usr/local/lib/python3.7/dist-packages/statsmodels/tools/_testing.py:19: FutureWarning: pandas.util.testing is deprecated. Use the functions in the public API at pandas.testing instead.\n",
            "  import pandas.util.testing as tm\n"
          ]
        }
      ],
      "source": [
        "import pandas as pd\n",
        "import numpy as np\n",
        "import matplotlib.pyplot as plt\n",
        "import seaborn as sns\n",
        "import statsmodels.formula.api as smf\n",
        "from tqdm import tqdm"
      ]
    },
    {
      "cell_type": "markdown",
      "metadata": {
        "id": "e1X1bOlGYf8k"
      },
      "source": [
        "Definición de funciones auxiliares usadas."
      ]
    },
    {
      "cell_type": "code",
      "execution_count": 2,
      "metadata": {
        "id": "QFRLK1U9Wcv4"
      },
      "outputs": [],
      "source": [
        "def generate_data(**kwargs):\n",
        "  seed, N = kwargs[\"seed\"], kwargs[\"N\"]\n",
        "  np.random.seed(kwargs[\"seed\"])\n",
        "  sex = np.random.binomial(n=1, p=0.5, size=N)  # 0=Female, 1=Male\n",
        "  position = ( (sex*np.random.binomial(n=1, p=0.4, size=N) +\n",
        "              (1-sex)*np.random.binomial(n=1, p=0.1, size=N)) > 0 ).astype(int) \n",
        "  salary = (1-sex)*np.random.normal(1000, 500, size=N) +\\\n",
        "          position*np.random.normal(15_000, 3_000, size=N) +\\\n",
        "          np.random.normal(30_000, 5_000, size=N)\n",
        "  data = pd.DataFrame({\n",
        "      \"sexo\":sex,\n",
        "      \"puesto\":position,\n",
        "      \"salario\":salary\n",
        "  })\n",
        "  data.sexo = np.where(data.sexo > 0, \"Hombre\", \"Mujer\")\n",
        "  data.puesto = np.where(data.puesto > 0, \"Gerencial\", \"No gerencial\")\n",
        "  return data\n",
        "\n",
        "def read_data(**kwargs):\n",
        "  csv_filename = kwargs[\"csv_filename\"]\n",
        "  return pd.read_csv(csv_filename, index_col=0)"
      ]
    },
    {
      "cell_type": "markdown",
      "metadata": {
        "id": "GETJM-2w1f_C"
      },
      "source": [
        "La variable `ENV` debe tener valor `\"HW\"` cuando está en modo de tarea."
      ]
    },
    {
      "cell_type": "code",
      "execution_count": 3,
      "metadata": {
        "id": "Fomz9yeUy_DY"
      },
      "outputs": [],
      "source": [
        "ENV = \"HW\""
      ]
    },
    {
      "cell_type": "code",
      "execution_count": 4,
      "metadata": {
        "id": "OfB69KVTwMLV"
      },
      "outputs": [],
      "source": [
        "get_data = read_data if ENV == \"HW\" else generate_data"
      ]
    },
    {
      "cell_type": "markdown",
      "metadata": {
        "id": "05dBtcORYk07"
      },
      "source": [
        "## Inicio"
      ]
    },
    {
      "cell_type": "markdown",
      "metadata": {
        "id": "lvzKEDgm14c7"
      },
      "source": [
        "Lee los datos desde el archivo `ex_01_wages.csv` con la función `read_data` definida arriba."
      ]
    },
    {
      "cell_type": "code",
      "execution_count": 5,
      "metadata": {
        "id": "3rXB-0s8v89F"
      },
      "outputs": [],
      "source": [
        "kwargs = {\n",
        "    \"csv_filename\": \"https://raw.githubusercontent.com/ccaballeroh/InferenciaCausal_A22/main/data/ex_01_wages.csv\"\n",
        "}\n",
        "\n",
        "data = get_data(**kwargs)\n",
        "\n",
        "if not ENV == \"HW\":\n",
        "  data.to_csv(\"ex_01_wages.csv\")"
      ]
    },
    {
      "cell_type": "markdown",
      "metadata": {
        "id": "boOV-ONo2Mm8"
      },
      "source": [
        "## Análisis exploratorio de datos"
      ]
    },
    {
      "cell_type": "markdown",
      "metadata": {
        "id": "6RwMG1Y92RRi"
      },
      "source": [
        "Veamos las primeras líneas del conjunto de datos guardado en el DataFrame llamado `data`."
      ]
    },
    {
      "cell_type": "code",
      "execution_count": 6,
      "metadata": {
        "colab": {
          "base_uri": "https://localhost:8080/",
          "height": 238
        },
        "id": "1BRh_SiHyDlZ",
        "outputId": "2a95e9e1-6492-43fe-e610-929478938dea"
      },
      "outputs": [
        {
          "output_type": "execute_result",
          "data": {
            "text/html": [
              "\n",
              "  <div id=\"df-a712ccad-450c-495a-954e-45cedea7837a\">\n",
              "    <div class=\"colab-df-container\">\n",
              "      <div>\n",
              "<style scoped>\n",
              "    .dataframe tbody tr th:only-of-type {\n",
              "        vertical-align: middle;\n",
              "    }\n",
              "\n",
              "    .dataframe tbody tr th {\n",
              "        vertical-align: top;\n",
              "    }\n",
              "\n",
              "    .dataframe thead th {\n",
              "        text-align: right;\n",
              "    }\n",
              "</style>\n",
              "<table border=\"1\" class=\"dataframe\">\n",
              "  <thead>\n",
              "    <tr style=\"text-align: right;\">\n",
              "      <th></th>\n",
              "      <th>sexo</th>\n",
              "      <th>puesto</th>\n",
              "      <th>salario</th>\n",
              "    </tr>\n",
              "    <tr>\n",
              "      <th>index</th>\n",
              "      <th></th>\n",
              "      <th></th>\n",
              "      <th></th>\n",
              "    </tr>\n",
              "  </thead>\n",
              "  <tbody>\n",
              "    <tr>\n",
              "      <th>0</th>\n",
              "      <td>Hombre</td>\n",
              "      <td>No gerencial</td>\n",
              "      <td>24092.767040</td>\n",
              "    </tr>\n",
              "    <tr>\n",
              "      <th>1</th>\n",
              "      <td>Mujer</td>\n",
              "      <td>No gerencial</td>\n",
              "      <td>25574.011864</td>\n",
              "    </tr>\n",
              "    <tr>\n",
              "      <th>2</th>\n",
              "      <td>Hombre</td>\n",
              "      <td>Gerencial</td>\n",
              "      <td>39051.930008</td>\n",
              "    </tr>\n",
              "    <tr>\n",
              "      <th>3</th>\n",
              "      <td>Mujer</td>\n",
              "      <td>No gerencial</td>\n",
              "      <td>26058.226921</td>\n",
              "    </tr>\n",
              "    <tr>\n",
              "      <th>4</th>\n",
              "      <td>Hombre</td>\n",
              "      <td>Gerencial</td>\n",
              "      <td>44688.832593</td>\n",
              "    </tr>\n",
              "  </tbody>\n",
              "</table>\n",
              "</div>\n",
              "      <button class=\"colab-df-convert\" onclick=\"convertToInteractive('df-a712ccad-450c-495a-954e-45cedea7837a')\"\n",
              "              title=\"Convert this dataframe to an interactive table.\"\n",
              "              style=\"display:none;\">\n",
              "        \n",
              "  <svg xmlns=\"http://www.w3.org/2000/svg\" height=\"24px\"viewBox=\"0 0 24 24\"\n",
              "       width=\"24px\">\n",
              "    <path d=\"M0 0h24v24H0V0z\" fill=\"none\"/>\n",
              "    <path d=\"M18.56 5.44l.94 2.06.94-2.06 2.06-.94-2.06-.94-.94-2.06-.94 2.06-2.06.94zm-11 1L8.5 8.5l.94-2.06 2.06-.94-2.06-.94L8.5 2.5l-.94 2.06-2.06.94zm10 10l.94 2.06.94-2.06 2.06-.94-2.06-.94-.94-2.06-.94 2.06-2.06.94z\"/><path d=\"M17.41 7.96l-1.37-1.37c-.4-.4-.92-.59-1.43-.59-.52 0-1.04.2-1.43.59L10.3 9.45l-7.72 7.72c-.78.78-.78 2.05 0 2.83L4 21.41c.39.39.9.59 1.41.59.51 0 1.02-.2 1.41-.59l7.78-7.78 2.81-2.81c.8-.78.8-2.07 0-2.86zM5.41 20L4 18.59l7.72-7.72 1.47 1.35L5.41 20z\"/>\n",
              "  </svg>\n",
              "      </button>\n",
              "      \n",
              "  <style>\n",
              "    .colab-df-container {\n",
              "      display:flex;\n",
              "      flex-wrap:wrap;\n",
              "      gap: 12px;\n",
              "    }\n",
              "\n",
              "    .colab-df-convert {\n",
              "      background-color: #E8F0FE;\n",
              "      border: none;\n",
              "      border-radius: 50%;\n",
              "      cursor: pointer;\n",
              "      display: none;\n",
              "      fill: #1967D2;\n",
              "      height: 32px;\n",
              "      padding: 0 0 0 0;\n",
              "      width: 32px;\n",
              "    }\n",
              "\n",
              "    .colab-df-convert:hover {\n",
              "      background-color: #E2EBFA;\n",
              "      box-shadow: 0px 1px 2px rgba(60, 64, 67, 0.3), 0px 1px 3px 1px rgba(60, 64, 67, 0.15);\n",
              "      fill: #174EA6;\n",
              "    }\n",
              "\n",
              "    [theme=dark] .colab-df-convert {\n",
              "      background-color: #3B4455;\n",
              "      fill: #D2E3FC;\n",
              "    }\n",
              "\n",
              "    [theme=dark] .colab-df-convert:hover {\n",
              "      background-color: #434B5C;\n",
              "      box-shadow: 0px 1px 3px 1px rgba(0, 0, 0, 0.15);\n",
              "      filter: drop-shadow(0px 1px 2px rgba(0, 0, 0, 0.3));\n",
              "      fill: #FFFFFF;\n",
              "    }\n",
              "  </style>\n",
              "\n",
              "      <script>\n",
              "        const buttonEl =\n",
              "          document.querySelector('#df-a712ccad-450c-495a-954e-45cedea7837a button.colab-df-convert');\n",
              "        buttonEl.style.display =\n",
              "          google.colab.kernel.accessAllowed ? 'block' : 'none';\n",
              "\n",
              "        async function convertToInteractive(key) {\n",
              "          const element = document.querySelector('#df-a712ccad-450c-495a-954e-45cedea7837a');\n",
              "          const dataTable =\n",
              "            await google.colab.kernel.invokeFunction('convertToInteractive',\n",
              "                                                     [key], {});\n",
              "          if (!dataTable) return;\n",
              "\n",
              "          const docLinkHtml = 'Like what you see? Visit the ' +\n",
              "            '<a target=\"_blank\" href=https://colab.research.google.com/notebooks/data_table.ipynb>data table notebook</a>'\n",
              "            + ' to learn more about interactive tables.';\n",
              "          element.innerHTML = '';\n",
              "          dataTable['output_type'] = 'display_data';\n",
              "          await google.colab.output.renderOutput(dataTable, element);\n",
              "          const docLink = document.createElement('div');\n",
              "          docLink.innerHTML = docLinkHtml;\n",
              "          element.appendChild(docLink);\n",
              "        }\n",
              "      </script>\n",
              "    </div>\n",
              "  </div>\n",
              "  "
            ],
            "text/plain": [
              "         sexo        puesto       salario\n",
              "index                                    \n",
              "0      Hombre  No gerencial  24092.767040\n",
              "1       Mujer  No gerencial  25574.011864\n",
              "2      Hombre     Gerencial  39051.930008\n",
              "3       Mujer  No gerencial  26058.226921\n",
              "4      Hombre     Gerencial  44688.832593"
            ]
          },
          "metadata": {},
          "execution_count": 6
        }
      ],
      "source": [
        "# Llama el método `head()` del DataFrame\n",
        "data.head()"
      ]
    },
    {
      "cell_type": "markdown",
      "metadata": {
        "id": "9WUM66qi2deO"
      },
      "source": [
        "Imprime el tipo de dato de las columnas de `data`."
      ]
    },
    {
      "cell_type": "code",
      "execution_count": 7,
      "metadata": {
        "colab": {
          "base_uri": "https://localhost:8080/"
        },
        "id": "FeLDbfYi2jDF",
        "outputId": "d0e1f8af-c865-46c0-b08f-940a7d2facf1"
      },
      "outputs": [
        {
          "output_type": "execute_result",
          "data": {
            "text/plain": [
              "sexo        object\n",
              "puesto      object\n",
              "salario    float64\n",
              "dtype: object"
            ]
          },
          "metadata": {},
          "execution_count": 7
        }
      ],
      "source": [
        "# Llama el atributo `dtypes` del DataFrame\n",
        "data.dtypes"
      ]
    },
    {
      "cell_type": "markdown",
      "metadata": {
        "id": "PbhF80wj3Dmd"
      },
      "source": [
        "Imprime el resumen del conjunto de datos."
      ]
    },
    {
      "cell_type": "code",
      "execution_count": 8,
      "metadata": {
        "colab": {
          "base_uri": "https://localhost:8080/",
          "height": 394
        },
        "id": "Jn0JxWts0wPK",
        "outputId": "08fff7d2-e389-405f-b320-95f357ecf657"
      },
      "outputs": [
        {
          "output_type": "execute_result",
          "data": {
            "text/html": [
              "\n",
              "  <div id=\"df-ee2c7cf3-95e1-4e6e-8d70-03d40e72760f\">\n",
              "    <div class=\"colab-df-container\">\n",
              "      <div>\n",
              "<style scoped>\n",
              "    .dataframe tbody tr th:only-of-type {\n",
              "        vertical-align: middle;\n",
              "    }\n",
              "\n",
              "    .dataframe tbody tr th {\n",
              "        vertical-align: top;\n",
              "    }\n",
              "\n",
              "    .dataframe thead th {\n",
              "        text-align: right;\n",
              "    }\n",
              "</style>\n",
              "<table border=\"1\" class=\"dataframe\">\n",
              "  <thead>\n",
              "    <tr style=\"text-align: right;\">\n",
              "      <th></th>\n",
              "      <th>sexo</th>\n",
              "      <th>puesto</th>\n",
              "      <th>salario</th>\n",
              "    </tr>\n",
              "  </thead>\n",
              "  <tbody>\n",
              "    <tr>\n",
              "      <th>count</th>\n",
              "      <td>200</td>\n",
              "      <td>200</td>\n",
              "      <td>200.000000</td>\n",
              "    </tr>\n",
              "    <tr>\n",
              "      <th>unique</th>\n",
              "      <td>2</td>\n",
              "      <td>2</td>\n",
              "      <td>NaN</td>\n",
              "    </tr>\n",
              "    <tr>\n",
              "      <th>top</th>\n",
              "      <td>Mujer</td>\n",
              "      <td>No gerencial</td>\n",
              "      <td>NaN</td>\n",
              "    </tr>\n",
              "    <tr>\n",
              "      <th>freq</th>\n",
              "      <td>105</td>\n",
              "      <td>146</td>\n",
              "      <td>NaN</td>\n",
              "    </tr>\n",
              "    <tr>\n",
              "      <th>mean</th>\n",
              "      <td>NaN</td>\n",
              "      <td>NaN</td>\n",
              "      <td>35155.418105</td>\n",
              "    </tr>\n",
              "    <tr>\n",
              "      <th>std</th>\n",
              "      <td>NaN</td>\n",
              "      <td>NaN</td>\n",
              "      <td>8506.795221</td>\n",
              "    </tr>\n",
              "    <tr>\n",
              "      <th>min</th>\n",
              "      <td>NaN</td>\n",
              "      <td>NaN</td>\n",
              "      <td>17037.452191</td>\n",
              "    </tr>\n",
              "    <tr>\n",
              "      <th>25%</th>\n",
              "      <td>NaN</td>\n",
              "      <td>NaN</td>\n",
              "      <td>28699.515533</td>\n",
              "    </tr>\n",
              "    <tr>\n",
              "      <th>50%</th>\n",
              "      <td>NaN</td>\n",
              "      <td>NaN</td>\n",
              "      <td>33567.270374</td>\n",
              "    </tr>\n",
              "    <tr>\n",
              "      <th>75%</th>\n",
              "      <td>NaN</td>\n",
              "      <td>NaN</td>\n",
              "      <td>40003.413391</td>\n",
              "    </tr>\n",
              "    <tr>\n",
              "      <th>max</th>\n",
              "      <td>NaN</td>\n",
              "      <td>NaN</td>\n",
              "      <td>67095.395958</td>\n",
              "    </tr>\n",
              "  </tbody>\n",
              "</table>\n",
              "</div>\n",
              "      <button class=\"colab-df-convert\" onclick=\"convertToInteractive('df-ee2c7cf3-95e1-4e6e-8d70-03d40e72760f')\"\n",
              "              title=\"Convert this dataframe to an interactive table.\"\n",
              "              style=\"display:none;\">\n",
              "        \n",
              "  <svg xmlns=\"http://www.w3.org/2000/svg\" height=\"24px\"viewBox=\"0 0 24 24\"\n",
              "       width=\"24px\">\n",
              "    <path d=\"M0 0h24v24H0V0z\" fill=\"none\"/>\n",
              "    <path d=\"M18.56 5.44l.94 2.06.94-2.06 2.06-.94-2.06-.94-.94-2.06-.94 2.06-2.06.94zm-11 1L8.5 8.5l.94-2.06 2.06-.94-2.06-.94L8.5 2.5l-.94 2.06-2.06.94zm10 10l.94 2.06.94-2.06 2.06-.94-2.06-.94-.94-2.06-.94 2.06-2.06.94z\"/><path d=\"M17.41 7.96l-1.37-1.37c-.4-.4-.92-.59-1.43-.59-.52 0-1.04.2-1.43.59L10.3 9.45l-7.72 7.72c-.78.78-.78 2.05 0 2.83L4 21.41c.39.39.9.59 1.41.59.51 0 1.02-.2 1.41-.59l7.78-7.78 2.81-2.81c.8-.78.8-2.07 0-2.86zM5.41 20L4 18.59l7.72-7.72 1.47 1.35L5.41 20z\"/>\n",
              "  </svg>\n",
              "      </button>\n",
              "      \n",
              "  <style>\n",
              "    .colab-df-container {\n",
              "      display:flex;\n",
              "      flex-wrap:wrap;\n",
              "      gap: 12px;\n",
              "    }\n",
              "\n",
              "    .colab-df-convert {\n",
              "      background-color: #E8F0FE;\n",
              "      border: none;\n",
              "      border-radius: 50%;\n",
              "      cursor: pointer;\n",
              "      display: none;\n",
              "      fill: #1967D2;\n",
              "      height: 32px;\n",
              "      padding: 0 0 0 0;\n",
              "      width: 32px;\n",
              "    }\n",
              "\n",
              "    .colab-df-convert:hover {\n",
              "      background-color: #E2EBFA;\n",
              "      box-shadow: 0px 1px 2px rgba(60, 64, 67, 0.3), 0px 1px 3px 1px rgba(60, 64, 67, 0.15);\n",
              "      fill: #174EA6;\n",
              "    }\n",
              "\n",
              "    [theme=dark] .colab-df-convert {\n",
              "      background-color: #3B4455;\n",
              "      fill: #D2E3FC;\n",
              "    }\n",
              "\n",
              "    [theme=dark] .colab-df-convert:hover {\n",
              "      background-color: #434B5C;\n",
              "      box-shadow: 0px 1px 3px 1px rgba(0, 0, 0, 0.15);\n",
              "      filter: drop-shadow(0px 1px 2px rgba(0, 0, 0, 0.3));\n",
              "      fill: #FFFFFF;\n",
              "    }\n",
              "  </style>\n",
              "\n",
              "      <script>\n",
              "        const buttonEl =\n",
              "          document.querySelector('#df-ee2c7cf3-95e1-4e6e-8d70-03d40e72760f button.colab-df-convert');\n",
              "        buttonEl.style.display =\n",
              "          google.colab.kernel.accessAllowed ? 'block' : 'none';\n",
              "\n",
              "        async function convertToInteractive(key) {\n",
              "          const element = document.querySelector('#df-ee2c7cf3-95e1-4e6e-8d70-03d40e72760f');\n",
              "          const dataTable =\n",
              "            await google.colab.kernel.invokeFunction('convertToInteractive',\n",
              "                                                     [key], {});\n",
              "          if (!dataTable) return;\n",
              "\n",
              "          const docLinkHtml = 'Like what you see? Visit the ' +\n",
              "            '<a target=\"_blank\" href=https://colab.research.google.com/notebooks/data_table.ipynb>data table notebook</a>'\n",
              "            + ' to learn more about interactive tables.';\n",
              "          element.innerHTML = '';\n",
              "          dataTable['output_type'] = 'display_data';\n",
              "          await google.colab.output.renderOutput(dataTable, element);\n",
              "          const docLink = document.createElement('div');\n",
              "          docLink.innerHTML = docLinkHtml;\n",
              "          element.appendChild(docLink);\n",
              "        }\n",
              "      </script>\n",
              "    </div>\n",
              "  </div>\n",
              "  "
            ],
            "text/plain": [
              "         sexo        puesto       salario\n",
              "count     200           200    200.000000\n",
              "unique      2             2           NaN\n",
              "top     Mujer  No gerencial           NaN\n",
              "freq      105           146           NaN\n",
              "mean      NaN           NaN  35155.418105\n",
              "std       NaN           NaN   8506.795221\n",
              "min       NaN           NaN  17037.452191\n",
              "25%       NaN           NaN  28699.515533\n",
              "50%       NaN           NaN  33567.270374\n",
              "75%       NaN           NaN  40003.413391\n",
              "max       NaN           NaN  67095.395958"
            ]
          },
          "metadata": {},
          "execution_count": 8
        }
      ],
      "source": [
        "# Llama al método `describe()` con el argumento `include=['object', 'float', 'int]`\n",
        "data.describe(include=['object', 'float', 'int'])"
      ]
    },
    {
      "cell_type": "markdown",
      "metadata": {
        "id": "hNBuaf3n3Jxy"
      },
      "source": [
        "Haz una gráfica de caja de `salario` por `sexo`."
      ]
    },
    {
      "cell_type": "code",
      "execution_count": 9,
      "metadata": {
        "colab": {
          "base_uri": "https://localhost:8080/",
          "height": 386
        },
        "id": "13Kk9jyckt4O",
        "outputId": "e2daac6e-ad22-403e-98ec-544d2ec7ba6c"
      },
      "outputs": [
        {
          "output_type": "execute_result",
          "data": {
            "text/plain": [
              "<seaborn.axisgrid.FacetGrid at 0x7faaefbed310>"
            ]
          },
          "metadata": {},
          "execution_count": 9
        },
        {
          "output_type": "display_data",
          "data": {
            "image/png": "[encoded data removed]",
            "text/plain": [
              "<Figure size 360x360 with 1 Axes>"
            ]
          },
          "metadata": {
            "needs_background": "light"
          }
        }
      ],
      "source": [
        "# Utiliza `catplot` de Seaborn\n",
        "sns.catplot(x=\"sexo\", y=\"salario\", kind=\"box\", data=data)"
      ]
    },
    {
      "cell_type": "markdown",
      "metadata": {
        "id": "_ToUeAIP3we_"
      },
      "source": [
        "¿Qué opinas sobre si hay o no diferencia salarial entre hombres y mujeres?"
      ]
    },
    {
      "cell_type": "markdown",
      "metadata": {
        "id": "4GdK8SZi35co"
      },
      "source": [
        "**Tu respuesta:**"
      ]
    },
    {
      "cell_type": "markdown",
      "metadata": {
        "id": "04JREz4K3PNt"
      },
      "source": [
        "Ahora, haz una gráfica de caja de `salario` por `sexo` separando por la tercera variable `puesto`."
      ]
    },
    {
      "cell_type": "code",
      "execution_count": 10,
      "metadata": {
        "colab": {
          "base_uri": "https://localhost:8080/",
          "height": 386
        },
        "id": "100f6FZPWsU2",
        "outputId": "075b0f79-2e0a-47cf-9c52-a88de4906c26"
      },
      "outputs": [
        {
          "output_type": "execute_result",
          "data": {
            "text/plain": [
              "<seaborn.axisgrid.FacetGrid at 0x7faad144d810>"
            ]
          },
          "metadata": {},
          "execution_count": 10
        },
        {
          "output_type": "display_data",
          "data": {
            "image/png": "[encoded data removed]",
            "text/plain": [
              "<Figure size 458.875x360 with 1 Axes>"
            ]
          },
          "metadata": {
            "needs_background": "light"
          }
        }
      ],
      "source": [
        "# Utiliza `catplot`\n",
        "sns.catplot(x=\"sexo\", y=\"salario\", hue=\"puesto\", kind=\"box\", data=data)"
      ]
    },
    {
      "cell_type": "markdown",
      "metadata": {
        "id": "hzNZMwsj3hR2"
      },
      "source": [
        "¿Cambió tu opinión? ¿Hay diferencia entre hombres y mujeres comparando por el mismo tipo de puesto?"
      ]
    },
    {
      "cell_type": "markdown",
      "metadata": {
        "id": "71_LwjuE4dkT"
      },
      "source": [
        "**Tu respuesta:**"
      ]
    },
    {
      "cell_type": "markdown",
      "metadata": {
        "id": "pmhAbPXo4gmI"
      },
      "source": [
        "Ahora, haz una gráfica categórica de tipo `swarm` usando `catplot` de Seaborn. En el eje de las equis coloca el `puesto`; en el de las ye, `salario` y separa por `sexo`. "
      ]
    },
    {
      "cell_type": "code",
      "execution_count": 11,
      "metadata": {
        "colab": {
          "base_uri": "https://localhost:8080/",
          "height": 386
        },
        "id": "wE0y1U-UY-1j",
        "outputId": "c9589312-ee7b-4e7a-b5c6-5d555a592aae"
      },
      "outputs": [
        {
          "output_type": "execute_result",
          "data": {
            "text/plain": [
              "<seaborn.axisgrid.FacetGrid at 0x7faacee750d0>"
            ]
          },
          "metadata": {},
          "execution_count": 11
        },
        {
          "output_type": "display_data",
          "data": {
            "image/png": "[encoded data removed]",
            "text/plain": [
              "<Figure size 435.375x360 with 1 Axes>"
            ]
          },
          "metadata": {
            "needs_background": "light"
          }
        }
      ],
      "source": [
        "# Tu código\n",
        "sns.catplot(x=\"puesto\", y=\"salario\", hue=\"sexo\", kind=\"swarm\", data=data)"
      ]
    },
    {
      "cell_type": "markdown",
      "metadata": {
        "id": "FAH2k-HH5dzW"
      },
      "source": [
        "¿Es mucha la diferencia en salario entre gerentes y no gerentes?"
      ]
    },
    {
      "cell_type": "markdown",
      "metadata": {
        "id": "oO-UFHHcgMk4"
      },
      "source": [
        "**Tu respuesta:**"
      ]
    },
    {
      "cell_type": "markdown",
      "metadata": {
        "id": "E0C2EHZq5lP-"
      },
      "source": [
        "Ahora haz la misma gráfica, pero invierte las variables para las equis y el _hue_."
      ]
    },
    {
      "cell_type": "code",
      "execution_count": 12,
      "metadata": {
        "colab": {
          "base_uri": "https://localhost:8080/",
          "height": 386
        },
        "id": "mczugpBeQIPD",
        "outputId": "5e867263-3106-4afa-b472-e77086b5f103"
      },
      "outputs": [
        {
          "output_type": "execute_result",
          "data": {
            "text/plain": [
              "<seaborn.axisgrid.FacetGrid at 0x7faaced84490>"
            ]
          },
          "metadata": {},
          "execution_count": 12
        },
        {
          "output_type": "display_data",
          "data": {
            "image/png": "[encoded data removed]",
            "text/plain": [
              "<Figure size 458.875x360 with 1 Axes>"
            ]
          },
          "metadata": {
            "needs_background": "light"
          }
        }
      ],
      "source": [
        "# Tu código\n",
        "sns.catplot(x=\"sexo\", y=\"salario\", hue=\"puesto\", kind=\"swarm\", data=data)"
      ]
    },
    {
      "cell_type": "markdown",
      "metadata": {
        "id": "qYXEBlRJ5V9_"
      },
      "source": [
        "¿Hay más o menos mujeres que hombres en puestos altos? ¿Y en puestos bajos?"
      ]
    },
    {
      "cell_type": "markdown",
      "metadata": {
        "id": "np_JblnZ5zRm"
      },
      "source": [
        "Genera una tabla de contingencia para el salario promedio y otra para el número total de personas en cada combinación de categorías."
      ]
    },
    {
      "cell_type": "code",
      "execution_count": 13,
      "metadata": {
        "colab": {
          "base_uri": "https://localhost:8080/",
          "height": 143
        },
        "id": "yqk1QZYcammq",
        "outputId": "1bd240d9-cf14-4287-9feb-c14adfd7f71c"
      },
      "outputs": [
        {
          "output_type": "execute_result",
          "data": {
            "text/html": [
              "\n",
              "  <div id=\"df-5fd6358a-a274-490b-b0c3-29a1caefa0d9\">\n",
              "    <div class=\"colab-df-container\">\n",
              "      <div>\n",
              "<style scoped>\n",
              "    .dataframe tbody tr th:only-of-type {\n",
              "        vertical-align: middle;\n",
              "    }\n",
              "\n",
              "    .dataframe tbody tr th {\n",
              "        vertical-align: top;\n",
              "    }\n",
              "\n",
              "    .dataframe thead th {\n",
              "        text-align: right;\n",
              "    }\n",
              "</style>\n",
              "<table border=\"1\" class=\"dataframe\">\n",
              "  <thead>\n",
              "    <tr style=\"text-align: right;\">\n",
              "      <th>sexo</th>\n",
              "      <th>Hombre</th>\n",
              "      <th>Mujer</th>\n",
              "    </tr>\n",
              "    <tr>\n",
              "      <th>puesto</th>\n",
              "      <th></th>\n",
              "      <th></th>\n",
              "    </tr>\n",
              "  </thead>\n",
              "  <tbody>\n",
              "    <tr>\n",
              "      <th>Gerencial</th>\n",
              "      <td>45342.802726</td>\n",
              "      <td>48006.103590</td>\n",
              "    </tr>\n",
              "    <tr>\n",
              "      <th>No gerencial</th>\n",
              "      <td>30692.538241</td>\n",
              "      <td>31460.255062</td>\n",
              "    </tr>\n",
              "  </tbody>\n",
              "</table>\n",
              "</div>\n",
              "      <button class=\"colab-df-convert\" onclick=\"convertToInteractive('df-5fd6358a-a274-490b-b0c3-29a1caefa0d9')\"\n",
              "              title=\"Convert this dataframe to an interactive table.\"\n",
              "              style=\"display:none;\">\n",
              "        \n",
              "  <svg xmlns=\"http://www.w3.org/2000/svg\" height=\"24px\"viewBox=\"0 0 24 24\"\n",
              "       width=\"24px\">\n",
              "    <path d=\"M0 0h24v24H0V0z\" fill=\"none\"/>\n",
              "    <path d=\"M18.56 5.44l.94 2.06.94-2.06 2.06-.94-2.06-.94-.94-2.06-.94 2.06-2.06.94zm-11 1L8.5 8.5l.94-2.06 2.06-.94-2.06-.94L8.5 2.5l-.94 2.06-2.06.94zm10 10l.94 2.06.94-2.06 2.06-.94-2.06-.94-.94-2.06-.94 2.06-2.06.94z\"/><path d=\"M17.41 7.96l-1.37-1.37c-.4-.4-.92-.59-1.43-.59-.52 0-1.04.2-1.43.59L10.3 9.45l-7.72 7.72c-.78.78-.78 2.05 0 2.83L4 21.41c.39.39.9.59 1.41.59.51 0 1.02-.2 1.41-.59l7.78-7.78 2.81-2.81c.8-.78.8-2.07 0-2.86zM5.41 20L4 18.59l7.72-7.72 1.47 1.35L5.41 20z\"/>\n",
              "  </svg>\n",
              "      </button>\n",
              "      \n",
              "  <style>\n",
              "    .colab-df-container {\n",
              "      display:flex;\n",
              "      flex-wrap:wrap;\n",
              "      gap: 12px;\n",
              "    }\n",
              "\n",
              "    .colab-df-convert {\n",
              "      background-color: #E8F0FE;\n",
              "      border: none;\n",
              "      border-radius: 50%;\n",
              "      cursor: pointer;\n",
              "      display: none;\n",
              "      fill: #1967D2;\n",
              "      height: 32px;\n",
              "      padding: 0 0 0 0;\n",
              "      width: 32px;\n",
              "    }\n",
              "\n",
              "    .colab-df-convert:hover {\n",
              "      background-color: #E2EBFA;\n",
              "      box-shadow: 0px 1px 2px rgba(60, 64, 67, 0.3), 0px 1px 3px 1px rgba(60, 64, 67, 0.15);\n",
              "      fill: #174EA6;\n",
              "    }\n",
              "\n",
              "    [theme=dark] .colab-df-convert {\n",
              "      background-color: #3B4455;\n",
              "      fill: #D2E3FC;\n",
              "    }\n",
              "\n",
              "    [theme=dark] .colab-df-convert:hover {\n",
              "      background-color: #434B5C;\n",
              "      box-shadow: 0px 1px 3px 1px rgba(0, 0, 0, 0.15);\n",
              "      filter: drop-shadow(0px 1px 2px rgba(0, 0, 0, 0.3));\n",
              "      fill: #FFFFFF;\n",
              "    }\n",
              "  </style>\n",
              "\n",
              "      <script>\n",
              "        const buttonEl =\n",
              "          document.querySelector('#df-5fd6358a-a274-490b-b0c3-29a1caefa0d9 button.colab-df-convert');\n",
              "        buttonEl.style.display =\n",
              "          google.colab.kernel.accessAllowed ? 'block' : 'none';\n",
              "\n",
              "        async function convertToInteractive(key) {\n",
              "          const element = document.querySelector('#df-5fd6358a-a274-490b-b0c3-29a1caefa0d9');\n",
              "          const dataTable =\n",
              "            await google.colab.kernel.invokeFunction('convertToInteractive',\n",
              "                                                     [key], {});\n",
              "          if (!dataTable) return;\n",
              "\n",
              "          const docLinkHtml = 'Like what you see? Visit the ' +\n",
              "            '<a target=\"_blank\" href=https://colab.research.google.com/notebooks/data_table.ipynb>data table notebook</a>'\n",
              "            + ' to learn more about interactive tables.';\n",
              "          element.innerHTML = '';\n",
              "          dataTable['output_type'] = 'display_data';\n",
              "          await google.colab.output.renderOutput(dataTable, element);\n",
              "          const docLink = document.createElement('div');\n",
              "          docLink.innerHTML = docLinkHtml;\n",
              "          element.appendChild(docLink);\n",
              "        }\n",
              "      </script>\n",
              "    </div>\n",
              "  </div>\n",
              "  "
            ],
            "text/plain": [
              "sexo                Hombre         Mujer\n",
              "puesto                                  \n",
              "Gerencial     45342.802726  48006.103590\n",
              "No gerencial  30692.538241  31460.255062"
            ]
          },
          "metadata": {},
          "execution_count": 13
        }
      ],
      "source": [
        "# Utiliza `crosstab` de Pandas con la función de agregación `mean` de Numpy\n",
        "pd.crosstab(data.puesto, data.sexo, data.salario, aggfunc=np.mean)"
      ]
    },
    {
      "cell_type": "code",
      "execution_count": 14,
      "metadata": {
        "colab": {
          "base_uri": "https://localhost:8080/",
          "height": 175
        },
        "id": "45miQQo6eO8H",
        "outputId": "abbd1c18-7175-4321-d34d-7ea22e0ceec1"
      },
      "outputs": [
        {
          "output_type": "execute_result",
          "data": {
            "text/html": [
              "\n",
              "  <div id=\"df-aef4b45d-ab35-4436-b8cc-b80109ce2997\">\n",
              "    <div class=\"colab-df-container\">\n",
              "      <div>\n",
              "<style scoped>\n",
              "    .dataframe tbody tr th:only-of-type {\n",
              "        vertical-align: middle;\n",
              "    }\n",
              "\n",
              "    .dataframe tbody tr th {\n",
              "        vertical-align: top;\n",
              "    }\n",
              "\n",
              "    .dataframe thead th {\n",
              "        text-align: right;\n",
              "    }\n",
              "</style>\n",
              "<table border=\"1\" class=\"dataframe\">\n",
              "  <thead>\n",
              "    <tr style=\"text-align: right;\">\n",
              "      <th>sexo</th>\n",
              "      <th>Hombre</th>\n",
              "      <th>Mujer</th>\n",
              "      <th>All</th>\n",
              "    </tr>\n",
              "    <tr>\n",
              "      <th>puesto</th>\n",
              "      <th></th>\n",
              "      <th></th>\n",
              "      <th></th>\n",
              "    </tr>\n",
              "  </thead>\n",
              "  <tbody>\n",
              "    <tr>\n",
              "      <th>Gerencial</th>\n",
              "      <td>43</td>\n",
              "      <td>11</td>\n",
              "      <td>54</td>\n",
              "    </tr>\n",
              "    <tr>\n",
              "      <th>No gerencial</th>\n",
              "      <td>52</td>\n",
              "      <td>94</td>\n",
              "      <td>146</td>\n",
              "    </tr>\n",
              "    <tr>\n",
              "      <th>All</th>\n",
              "      <td>95</td>\n",
              "      <td>105</td>\n",
              "      <td>200</td>\n",
              "    </tr>\n",
              "  </tbody>\n",
              "</table>\n",
              "</div>\n",
              "      <button class=\"colab-df-convert\" onclick=\"convertToInteractive('df-aef4b45d-ab35-4436-b8cc-b80109ce2997')\"\n",
              "              title=\"Convert this dataframe to an interactive table.\"\n",
              "              style=\"display:none;\">\n",
              "        \n",
              "  <svg xmlns=\"http://www.w3.org/2000/svg\" height=\"24px\"viewBox=\"0 0 24 24\"\n",
              "       width=\"24px\">\n",
              "    <path d=\"M0 0h24v24H0V0z\" fill=\"none\"/>\n",
              "    <path d=\"M18.56 5.44l.94 2.06.94-2.06 2.06-.94-2.06-.94-.94-2.06-.94 2.06-2.06.94zm-11 1L8.5 8.5l.94-2.06 2.06-.94-2.06-.94L8.5 2.5l-.94 2.06-2.06.94zm10 10l.94 2.06.94-2.06 2.06-.94-2.06-.94-.94-2.06-.94 2.06-2.06.94z\"/><path d=\"M17.41 7.96l-1.37-1.37c-.4-.4-.92-.59-1.43-.59-.52 0-1.04.2-1.43.59L10.3 9.45l-7.72 7.72c-.78.78-.78 2.05 0 2.83L4 21.41c.39.39.9.59 1.41.59.51 0 1.02-.2 1.41-.59l7.78-7.78 2.81-2.81c.8-.78.8-2.07 0-2.86zM5.41 20L4 18.59l7.72-7.72 1.47 1.35L5.41 20z\"/>\n",
              "  </svg>\n",
              "      </button>\n",
              "      \n",
              "  <style>\n",
              "    .colab-df-container {\n",
              "      display:flex;\n",
              "      flex-wrap:wrap;\n",
              "      gap: 12px;\n",
              "    }\n",
              "\n",
              "    .colab-df-convert {\n",
              "      background-color: #E8F0FE;\n",
              "      border: none;\n",
              "      border-radius: 50%;\n",
              "      cursor: pointer;\n",
              "      display: none;\n",
              "      fill: #1967D2;\n",
              "      height: 32px;\n",
              "      padding: 0 0 0 0;\n",
              "      width: 32px;\n",
              "    }\n",
              "\n",
              "    .colab-df-convert:hover {\n",
              "      background-color: #E2EBFA;\n",
              "      box-shadow: 0px 1px 2px rgba(60, 64, 67, 0.3), 0px 1px 3px 1px rgba(60, 64, 67, 0.15);\n",
              "      fill: #174EA6;\n",
              "    }\n",
              "\n",
              "    [theme=dark] .colab-df-convert {\n",
              "      background-color: #3B4455;\n",
              "      fill: #D2E3FC;\n",
              "    }\n",
              "\n",
              "    [theme=dark] .colab-df-convert:hover {\n",
              "      background-color: #434B5C;\n",
              "      box-shadow: 0px 1px 3px 1px rgba(0, 0, 0, 0.15);\n",
              "      filter: drop-shadow(0px 1px 2px rgba(0, 0, 0, 0.3));\n",
              "      fill: #FFFFFF;\n",
              "    }\n",
              "  </style>\n",
              "\n",
              "      <script>\n",
              "        const buttonEl =\n",
              "          document.querySelector('#df-aef4b45d-ab35-4436-b8cc-b80109ce2997 button.colab-df-convert');\n",
              "        buttonEl.style.display =\n",
              "          google.colab.kernel.accessAllowed ? 'block' : 'none';\n",
              "\n",
              "        async function convertToInteractive(key) {\n",
              "          const element = document.querySelector('#df-aef4b45d-ab35-4436-b8cc-b80109ce2997');\n",
              "          const dataTable =\n",
              "            await google.colab.kernel.invokeFunction('convertToInteractive',\n",
              "                                                     [key], {});\n",
              "          if (!dataTable) return;\n",
              "\n",
              "          const docLinkHtml = 'Like what you see? Visit the ' +\n",
              "            '<a target=\"_blank\" href=https://colab.research.google.com/notebooks/data_table.ipynb>data table notebook</a>'\n",
              "            + ' to learn more about interactive tables.';\n",
              "          element.innerHTML = '';\n",
              "          dataTable['output_type'] = 'display_data';\n",
              "          await google.colab.output.renderOutput(dataTable, element);\n",
              "          const docLink = document.createElement('div');\n",
              "          docLink.innerHTML = docLinkHtml;\n",
              "          element.appendChild(docLink);\n",
              "        }\n",
              "      </script>\n",
              "    </div>\n",
              "  </div>\n",
              "  "
            ],
            "text/plain": [
              "sexo          Hombre  Mujer  All\n",
              "puesto                          \n",
              "Gerencial         43     11   54\n",
              "No gerencial      52     94  146\n",
              "All               95    105  200"
            ]
          },
          "metadata": {},
          "execution_count": 14
        }
      ],
      "source": [
        "# Utiliza `crosstab` de Pandas. Pasa `True` al parámetro `margins`\n",
        "pd.crosstab(data.puesto, data.sexo, margins=True)"
      ]
    },
    {
      "cell_type": "markdown",
      "metadata": {
        "id": "q9cSe7tL6OfS"
      },
      "source": [
        "## Pregunta de análisis\n",
        "\n",
        "Para este conjunto de datos, se nos pide determinar la brecha salarial entre hombres y mujeres en la empresa en la que se recolectaron estos datos.\n",
        "\n",
        "- Antes de continuar, usa las tablas de contingencia anteriores para intentar contestar la pregunta."
      ]
    },
    {
      "cell_type": "markdown",
      "metadata": {
        "id": "449iMN_LxOgn"
      },
      "source": [
        "**Tu respuesta:**"
      ]
    },
    {
      "cell_type": "markdown",
      "metadata": {
        "id": "8MyQJIV57Grz"
      },
      "source": [
        "## Análisis guiado"
      ]
    },
    {
      "cell_type": "markdown",
      "metadata": {
        "id": "RSdaOlHFfvr4"
      },
      "source": [
        "## 1. Calcula el salario promedio de mujeres y hombres\n",
        "\n",
        "- Calcula el salario promedio de las mujeres\n",
        "- Calcula el salario promedio de los hombres\n",
        "- Saca la diferencia\n",
        "\n",
        "¿Quién gana más?"
      ]
    },
    {
      "cell_type": "code",
      "execution_count": 15,
      "metadata": {
        "colab": {
          "base_uri": "https://localhost:8080/"
        },
        "id": "lp5caeWUepRe",
        "outputId": "daf71052-5cca-4e53-e73c-02bfacf5b459"
      },
      "outputs": [
        {
          "output_type": "stream",
          "name": "stdout",
          "text": [
            "\n",
            "Las mujeres ganan en promedio: $33,193.63\n",
            "Los hombres ganan en promedio: $37,323.71\n",
            "\n",
            "La diferencia es $-4,130.08\n",
            "\n"
          ]
        }
      ],
      "source": [
        "## tu código\n",
        "\n",
        "promedio_mujeres = np.mean(data.loc[data.sexo==\"Mujer\", \"salario\"])\n",
        "promedio_hombres = np.mean(data.loc[data.sexo==\"Hombre\", \"salario\"])\n",
        "\n",
        "##\n",
        "\n",
        "print(f\"\"\"\n",
        "Las mujeres ganan en promedio: ${promedio_mujeres:,.2f}\n",
        "Los hombres ganan en promedio: ${promedio_hombres:,.2f}\n",
        "\n",
        "La diferencia es ${promedio_mujeres - promedio_hombres:,.2f}\n",
        "\"\"\")"
      ]
    },
    {
      "cell_type": "markdown",
      "metadata": {
        "id": "pGMOvsOXhVJV"
      },
      "source": [
        "## 2. Ahora compara por estratos\n",
        "\n",
        "- Compara por categoría `puesto` de forma separada.\n",
        "\n",
        "- ¿Ahora, cuál es la diferencia salarial en cada categoría?\n",
        "\n",
        "- ¿Quién gana más en cada tipo de puesto?"
      ]
    },
    {
      "cell_type": "code",
      "execution_count": 16,
      "metadata": {
        "id": "s2JQWRoDvGtE",
        "colab": {
          "base_uri": "https://localhost:8080/",
          "height": 238
        },
        "outputId": "80808795-bafa-4c95-bcd4-7d8258b3f39e"
      },
      "outputs": [
        {
          "output_type": "execute_result",
          "data": {
            "text/html": [
              "\n",
              "  <div id=\"df-484c0bbc-2359-4489-80df-9197052af061\">\n",
              "    <div class=\"colab-df-container\">\n",
              "      <div>\n",
              "<style scoped>\n",
              "    .dataframe tbody tr th:only-of-type {\n",
              "        vertical-align: middle;\n",
              "    }\n",
              "\n",
              "    .dataframe tbody tr th {\n",
              "        vertical-align: top;\n",
              "    }\n",
              "\n",
              "    .dataframe thead th {\n",
              "        text-align: right;\n",
              "    }\n",
              "</style>\n",
              "<table border=\"1\" class=\"dataframe\">\n",
              "  <thead>\n",
              "    <tr style=\"text-align: right;\">\n",
              "      <th></th>\n",
              "      <th>sexo</th>\n",
              "      <th>puesto</th>\n",
              "      <th>salario</th>\n",
              "    </tr>\n",
              "    <tr>\n",
              "      <th>index</th>\n",
              "      <th></th>\n",
              "      <th></th>\n",
              "      <th></th>\n",
              "    </tr>\n",
              "  </thead>\n",
              "  <tbody>\n",
              "    <tr>\n",
              "      <th>0</th>\n",
              "      <td>Hombre</td>\n",
              "      <td>No gerencial</td>\n",
              "      <td>24092.767040</td>\n",
              "    </tr>\n",
              "    <tr>\n",
              "      <th>1</th>\n",
              "      <td>Mujer</td>\n",
              "      <td>No gerencial</td>\n",
              "      <td>25574.011864</td>\n",
              "    </tr>\n",
              "    <tr>\n",
              "      <th>2</th>\n",
              "      <td>Hombre</td>\n",
              "      <td>Gerencial</td>\n",
              "      <td>39051.930008</td>\n",
              "    </tr>\n",
              "    <tr>\n",
              "      <th>3</th>\n",
              "      <td>Mujer</td>\n",
              "      <td>No gerencial</td>\n",
              "      <td>26058.226921</td>\n",
              "    </tr>\n",
              "    <tr>\n",
              "      <th>4</th>\n",
              "      <td>Hombre</td>\n",
              "      <td>Gerencial</td>\n",
              "      <td>44688.832593</td>\n",
              "    </tr>\n",
              "  </tbody>\n",
              "</table>\n",
              "</div>\n",
              "      <button class=\"colab-df-convert\" onclick=\"convertToInteractive('df-484c0bbc-2359-4489-80df-9197052af061')\"\n",
              "              title=\"Convert this dataframe to an interactive table.\"\n",
              "              style=\"display:none;\">\n",
              "        \n",
              "  <svg xmlns=\"http://www.w3.org/2000/svg\" height=\"24px\"viewBox=\"0 0 24 24\"\n",
              "       width=\"24px\">\n",
              "    <path d=\"M0 0h24v24H0V0z\" fill=\"none\"/>\n",
              "    <path d=\"M18.56 5.44l.94 2.06.94-2.06 2.06-.94-2.06-.94-.94-2.06-.94 2.06-2.06.94zm-11 1L8.5 8.5l.94-2.06 2.06-.94-2.06-.94L8.5 2.5l-.94 2.06-2.06.94zm10 10l.94 2.06.94-2.06 2.06-.94-2.06-.94-.94-2.06-.94 2.06-2.06.94z\"/><path d=\"M17.41 7.96l-1.37-1.37c-.4-.4-.92-.59-1.43-.59-.52 0-1.04.2-1.43.59L10.3 9.45l-7.72 7.72c-.78.78-.78 2.05 0 2.83L4 21.41c.39.39.9.59 1.41.59.51 0 1.02-.2 1.41-.59l7.78-7.78 2.81-2.81c.8-.78.8-2.07 0-2.86zM5.41 20L4 18.59l7.72-7.72 1.47 1.35L5.41 20z\"/>\n",
              "  </svg>\n",
              "      </button>\n",
              "      \n",
              "  <style>\n",
              "    .colab-df-container {\n",
              "      display:flex;\n",
              "      flex-wrap:wrap;\n",
              "      gap: 12px;\n",
              "    }\n",
              "\n",
              "    .colab-df-convert {\n",
              "      background-color: #E8F0FE;\n",
              "      border: none;\n",
              "      border-radius: 50%;\n",
              "      cursor: pointer;\n",
              "      display: none;\n",
              "      fill: #1967D2;\n",
              "      height: 32px;\n",
              "      padding: 0 0 0 0;\n",
              "      width: 32px;\n",
              "    }\n",
              "\n",
              "    .colab-df-convert:hover {\n",
              "      background-color: #E2EBFA;\n",
              "      box-shadow: 0px 1px 2px rgba(60, 64, 67, 0.3), 0px 1px 3px 1px rgba(60, 64, 67, 0.15);\n",
              "      fill: #174EA6;\n",
              "    }\n",
              "\n",
              "    [theme=dark] .colab-df-convert {\n",
              "      background-color: #3B4455;\n",
              "      fill: #D2E3FC;\n",
              "    }\n",
              "\n",
              "    [theme=dark] .colab-df-convert:hover {\n",
              "      background-color: #434B5C;\n",
              "      box-shadow: 0px 1px 3px 1px rgba(0, 0, 0, 0.15);\n",
              "      filter: drop-shadow(0px 1px 2px rgba(0, 0, 0, 0.3));\n",
              "      fill: #FFFFFF;\n",
              "    }\n",
              "  </style>\n",
              "\n",
              "      <script>\n",
              "        const buttonEl =\n",
              "          document.querySelector('#df-484c0bbc-2359-4489-80df-9197052af061 button.colab-df-convert');\n",
              "        buttonEl.style.display =\n",
              "          google.colab.kernel.accessAllowed ? 'block' : 'none';\n",
              "\n",
              "        async function convertToInteractive(key) {\n",
              "          const element = document.querySelector('#df-484c0bbc-2359-4489-80df-9197052af061');\n",
              "          const dataTable =\n",
              "            await google.colab.kernel.invokeFunction('convertToInteractive',\n",
              "                                                     [key], {});\n",
              "          if (!dataTable) return;\n",
              "\n",
              "          const docLinkHtml = 'Like what you see? Visit the ' +\n",
              "            '<a target=\"_blank\" href=https://colab.research.google.com/notebooks/data_table.ipynb>data table notebook</a>'\n",
              "            + ' to learn more about interactive tables.';\n",
              "          element.innerHTML = '';\n",
              "          dataTable['output_type'] = 'display_data';\n",
              "          await google.colab.output.renderOutput(dataTable, element);\n",
              "          const docLink = document.createElement('div');\n",
              "          docLink.innerHTML = docLinkHtml;\n",
              "          element.appendChild(docLink);\n",
              "        }\n",
              "      </script>\n",
              "    </div>\n",
              "  </div>\n",
              "  "
            ],
            "text/plain": [
              "         sexo        puesto       salario\n",
              "index                                    \n",
              "0      Hombre  No gerencial  24092.767040\n",
              "1       Mujer  No gerencial  25574.011864\n",
              "2      Hombre     Gerencial  39051.930008\n",
              "3       Mujer  No gerencial  26058.226921\n",
              "4      Hombre     Gerencial  44688.832593"
            ]
          },
          "metadata": {},
          "execution_count": 16
        }
      ],
      "source": [
        "data.head()"
      ]
    },
    {
      "cell_type": "code",
      "execution_count": 17,
      "metadata": {
        "colab": {
          "base_uri": "https://localhost:8080/",
          "height": 206
        },
        "id": "oH5YgNnTNzPS",
        "outputId": "79313099-c56b-4d90-bdb6-1d4807241db5"
      },
      "outputs": [
        {
          "output_type": "execute_result",
          "data": {
            "text/html": [
              "\n",
              "  <div id=\"df-67a23b52-09e4-4231-8cbd-ea06a42dacfd\">\n",
              "    <div class=\"colab-df-container\">\n",
              "      <div>\n",
              "<style scoped>\n",
              "    .dataframe tbody tr th:only-of-type {\n",
              "        vertical-align: middle;\n",
              "    }\n",
              "\n",
              "    .dataframe tbody tr th {\n",
              "        vertical-align: top;\n",
              "    }\n",
              "\n",
              "    .dataframe thead th {\n",
              "        text-align: right;\n",
              "    }\n",
              "</style>\n",
              "<table border=\"1\" class=\"dataframe\">\n",
              "  <thead>\n",
              "    <tr style=\"text-align: right;\">\n",
              "      <th></th>\n",
              "      <th></th>\n",
              "      <th>salario</th>\n",
              "      <th>cuentas</th>\n",
              "    </tr>\n",
              "    <tr>\n",
              "      <th>puesto</th>\n",
              "      <th>sexo</th>\n",
              "      <th></th>\n",
              "      <th></th>\n",
              "    </tr>\n",
              "  </thead>\n",
              "  <tbody>\n",
              "    <tr>\n",
              "      <th rowspan=\"2\" valign=\"top\">Gerencial</th>\n",
              "      <th>Hombre</th>\n",
              "      <td>45342.802726</td>\n",
              "      <td>43</td>\n",
              "    </tr>\n",
              "    <tr>\n",
              "      <th>Mujer</th>\n",
              "      <td>48006.103590</td>\n",
              "      <td>11</td>\n",
              "    </tr>\n",
              "    <tr>\n",
              "      <th rowspan=\"2\" valign=\"top\">No gerencial</th>\n",
              "      <th>Hombre</th>\n",
              "      <td>30692.538241</td>\n",
              "      <td>52</td>\n",
              "    </tr>\n",
              "    <tr>\n",
              "      <th>Mujer</th>\n",
              "      <td>31460.255062</td>\n",
              "      <td>94</td>\n",
              "    </tr>\n",
              "  </tbody>\n",
              "</table>\n",
              "</div>\n",
              "      <button class=\"colab-df-convert\" onclick=\"convertToInteractive('df-67a23b52-09e4-4231-8cbd-ea06a42dacfd')\"\n",
              "              title=\"Convert this dataframe to an interactive table.\"\n",
              "              style=\"display:none;\">\n",
              "        \n",
              "  <svg xmlns=\"http://www.w3.org/2000/svg\" height=\"24px\"viewBox=\"0 0 24 24\"\n",
              "       width=\"24px\">\n",
              "    <path d=\"M0 0h24v24H0V0z\" fill=\"none\"/>\n",
              "    <path d=\"M18.56 5.44l.94 2.06.94-2.06 2.06-.94-2.06-.94-.94-2.06-.94 2.06-2.06.94zm-11 1L8.5 8.5l.94-2.06 2.06-.94-2.06-.94L8.5 2.5l-.94 2.06-2.06.94zm10 10l.94 2.06.94-2.06 2.06-.94-2.06-.94-.94-2.06-.94 2.06-2.06.94z\"/><path d=\"M17.41 7.96l-1.37-1.37c-.4-.4-.92-.59-1.43-.59-.52 0-1.04.2-1.43.59L10.3 9.45l-7.72 7.72c-.78.78-.78 2.05 0 2.83L4 21.41c.39.39.9.59 1.41.59.51 0 1.02-.2 1.41-.59l7.78-7.78 2.81-2.81c.8-.78.8-2.07 0-2.86zM5.41 20L4 18.59l7.72-7.72 1.47 1.35L5.41 20z\"/>\n",
              "  </svg>\n",
              "      </button>\n",
              "      \n",
              "  <style>\n",
              "    .colab-df-container {\n",
              "      display:flex;\n",
              "      flex-wrap:wrap;\n",
              "      gap: 12px;\n",
              "    }\n",
              "\n",
              "    .colab-df-convert {\n",
              "      background-color: #E8F0FE;\n",
              "      border: none;\n",
              "      border-radius: 50%;\n",
              "      cursor: pointer;\n",
              "      display: none;\n",
              "      fill: #1967D2;\n",
              "      height: 32px;\n",
              "      padding: 0 0 0 0;\n",
              "      width: 32px;\n",
              "    }\n",
              "\n",
              "    .colab-df-convert:hover {\n",
              "      background-color: #E2EBFA;\n",
              "      box-shadow: 0px 1px 2px rgba(60, 64, 67, 0.3), 0px 1px 3px 1px rgba(60, 64, 67, 0.15);\n",
              "      fill: #174EA6;\n",
              "    }\n",
              "\n",
              "    [theme=dark] .colab-df-convert {\n",
              "      background-color: #3B4455;\n",
              "      fill: #D2E3FC;\n",
              "    }\n",
              "\n",
              "    [theme=dark] .colab-df-convert:hover {\n",
              "      background-color: #434B5C;\n",
              "      box-shadow: 0px 1px 3px 1px rgba(0, 0, 0, 0.15);\n",
              "      filter: drop-shadow(0px 1px 2px rgba(0, 0, 0, 0.3));\n",
              "      fill: #FFFFFF;\n",
              "    }\n",
              "  </style>\n",
              "\n",
              "      <script>\n",
              "        const buttonEl =\n",
              "          document.querySelector('#df-67a23b52-09e4-4231-8cbd-ea06a42dacfd button.colab-df-convert');\n",
              "        buttonEl.style.display =\n",
              "          google.colab.kernel.accessAllowed ? 'block' : 'none';\n",
              "\n",
              "        async function convertToInteractive(key) {\n",
              "          const element = document.querySelector('#df-67a23b52-09e4-4231-8cbd-ea06a42dacfd');\n",
              "          const dataTable =\n",
              "            await google.colab.kernel.invokeFunction('convertToInteractive',\n",
              "                                                     [key], {});\n",
              "          if (!dataTable) return;\n",
              "\n",
              "          const docLinkHtml = 'Like what you see? Visit the ' +\n",
              "            '<a target=\"_blank\" href=https://colab.research.google.com/notebooks/data_table.ipynb>data table notebook</a>'\n",
              "            + ' to learn more about interactive tables.';\n",
              "          element.innerHTML = '';\n",
              "          dataTable['output_type'] = 'display_data';\n",
              "          await google.colab.output.renderOutput(dataTable, element);\n",
              "          const docLink = document.createElement('div');\n",
              "          docLink.innerHTML = docLinkHtml;\n",
              "          element.appendChild(docLink);\n",
              "        }\n",
              "      </script>\n",
              "    </div>\n",
              "  </div>\n",
              "  "
            ],
            "text/plain": [
              "                          salario  cuentas\n",
              "puesto       sexo                         \n",
              "Gerencial    Hombre  45342.802726       43\n",
              "             Mujer   48006.103590       11\n",
              "No gerencial Hombre  30692.538241       52\n",
              "             Mujer   31460.255062       94"
            ]
          },
          "metadata": {},
          "execution_count": 17
        }
      ],
      "source": [
        "## Tu código\n",
        "## Utiliza `groupby` para sacar el promedio salarial por puesto y sexo\n",
        "## también cuenta la ocurrencia de cada combinación de categorías (i.e., \n",
        "## Gerencia y Hombre, Gerencial y Mujer, etc.)\n",
        "\n",
        "\n",
        "data_grpd = (data\n",
        "             .groupby([\"puesto\", \"sexo\"])\n",
        "             .agg({\"salario\":\"mean\", \"sexo\":\"count\"})\n",
        "             .rename(columns={\"sexo\":\"cuentas\"}) #renombra la columna `sexo` a cuentas\n",
        "             ) \n",
        "##\n",
        "\n",
        "data_grpd"
      ]
    },
    {
      "cell_type": "code",
      "execution_count": 18,
      "metadata": {
        "colab": {
          "base_uri": "https://localhost:8080/"
        },
        "id": "2QRyWNdwqrbc",
        "outputId": "9bc17801-57b9-4618-b134-98bd13302e47"
      },
      "outputs": [
        {
          "output_type": "stream",
          "name": "stdout",
          "text": [
            "\n",
            "Las mujeres gerentes ganan en promedio: $48,006.10\n",
            "Los hombres gerentes ganan en promedio: $45,342.80\n",
            "\n",
            "La diferencia es $2,663.30\n",
            "\n"
          ]
        }
      ],
      "source": [
        "promedio_mujeres_gerentes = data_grpd.loc[\n",
        "                                          [(\"Gerencial\", \"Mujer\")],\n",
        "                                          \"salario\"\n",
        "                                          ].values\n",
        "promedio_hombres_gerentes = data_grpd.loc[\n",
        "                                          [(\"Gerencial\", \"Hombre\")],\n",
        "                                          \"salario\"\n",
        "                                          ].values\n",
        "diferencia_gerentes = (promedio_mujeres_gerentes - promedio_hombres_gerentes)[0]\n",
        "\n",
        "print(f\"\"\"\n",
        "Las mujeres gerentes ganan en promedio: ${promedio_mujeres_gerentes[0]:,.2f}\n",
        "Los hombres gerentes ganan en promedio: ${promedio_hombres_gerentes[0]:,.2f}\n",
        "\n",
        "La diferencia es ${diferencia_gerentes:,.2f}\n",
        "\"\"\")"
      ]
    },
    {
      "cell_type": "code",
      "execution_count": 19,
      "metadata": {
        "colab": {
          "base_uri": "https://localhost:8080/"
        },
        "id": "x-vl0d6KrJvX",
        "outputId": "d0f747cb-b3af-4af0-c9a9-3431bc462465"
      },
      "outputs": [
        {
          "output_type": "stream",
          "name": "stdout",
          "text": [
            "\n",
            "Las mujeres no gerentes ganan en promedio: $31,460.26\n",
            "Los hombres no gerentes ganan en promedio: $30,692.54\n",
            "\n",
            "La diferencia es $767.72\n",
            "\n"
          ]
        }
      ],
      "source": [
        "promedio_mujeres_no_gerentes = data_grpd.loc[\n",
        "                                             [(\"No gerencial\", \"Mujer\")],\n",
        "                                             \"salario\"].values\n",
        "promedio_hombres_no_gerentes = data_grpd.loc[\n",
        "                                             [(\"No gerencial\", \"Hombre\")],\n",
        "                                             \"salario\"\n",
        "                                             ].values\n",
        "diferencia_no_gerentes = (promedio_mujeres_no_gerentes -\n",
        "                          promedio_hombres_no_gerentes)[0]\n",
        "\n",
        "print(f\"\"\"\n",
        "Las mujeres no gerentes ganan en promedio: ${promedio_mujeres_no_gerentes[0]:,.2f}\n",
        "Los hombres no gerentes ganan en promedio: ${promedio_hombres_no_gerentes[0]:,.2f}\n",
        "\n",
        "La diferencia es ${diferencia_no_gerentes:,.2f}\n",
        "\"\"\")"
      ]
    },
    {
      "cell_type": "markdown",
      "metadata": {
        "id": "8MpB2jWPXXcS"
      },
      "source": [
        "## Opcional\n",
        "\n",
        "Haz una suma ponderada por la cantidad de gerentes de las diferencias anteriores."
      ]
    },
    {
      "cell_type": "code",
      "execution_count": 20,
      "metadata": {
        "colab": {
          "base_uri": "https://localhost:8080/"
        },
        "id": "FNy0JO_ErUcj",
        "outputId": "63c647d2-3126-4933-f50a-0a443e4987d2"
      },
      "outputs": [
        {
          "output_type": "stream",
          "name": "stdout",
          "text": [
            "La diferencia ponderada es: $1,279.52\n"
          ]
        }
      ],
      "source": [
        "## Tu código\n",
        "diferencia_ponderada = (\n",
        "    len(data.loc[data.puesto==\"Gerencial\"])*(diferencia_gerentes) +\n",
        "    len(data.loc[data.puesto==\"No gerencial\"])*(diferencia_no_gerentes)\n",
        "    )/len(data)\n",
        "##\n",
        "\n",
        "print(f\"La diferencia ponderada es: ${diferencia_ponderada:,.2f}\")"
      ]
    },
    {
      "cell_type": "markdown",
      "metadata": {
        "id": "df6DtJM_Z4iP"
      },
      "source": [
        "## Reflexión\n",
        "\n",
        "- ¿Qué crees que sea lo que esté sucediendo? ¿Cómo es posible que al ver cada tipo de puesto la diferencia favorezca a un sexo, pero al ver la población entera la preferencia se invierte?\n",
        "- Si las etiquetas de los datos fueran `estilo de vida` en lugar de `sexo`, `puesto` y `salario`, ¿cambiaría tu respuesta?"
      ]
    },
    {
      "cell_type": "markdown",
      "metadata": {
        "id": "vV7R_W4Qya9j"
      },
      "source": [
        "**Tu respuesta:**"
      ]
    },
    {
      "cell_type": "markdown",
      "metadata": {
        "id": "5rzD9W3BXc0-"
      },
      "source": [
        "# Análisis estadístico de diferencias de medias"
      ]
    },
    {
      "cell_type": "markdown",
      "metadata": {
        "id": "DxJ9zRFbXi6t"
      },
      "source": [
        "Haz una regresión lineal `salario ~ sexo`.\n",
        "\n",
        "Compara el coeficiente (pendiente) de la variable categórica `sexo` con el resultado que habías obtenido arriba.\n",
        "\n",
        "¿Las diferencias son (estadísticamente) significativas?"
      ]
    },
    {
      "cell_type": "markdown",
      "metadata": {
        "id": "-WD09HAv1Jn9"
      },
      "source": [
        "**Tu respuesta:**"
      ]
    },
    {
      "cell_type": "code",
      "execution_count": 21,
      "metadata": {
        "colab": {
          "base_uri": "https://localhost:8080/",
          "height": 322
        },
        "id": "0Z9qFUKTsR02",
        "outputId": "f993bebf-d82d-4ddd-825b-811483426eff"
      },
      "outputs": [
        {
          "output_type": "execute_result",
          "data": {
            "text/html": [
              "<table class=\"simpletable\">\n",
              "<tr>\n",
              "        <td>Model:</td>               <td>OLS</td>         <td>Adj. R-squared:</td>      <td>0.054</td>  \n",
              "</tr>\n",
              "<tr>\n",
              "  <td>Dependent Variable:</td>      <td>salario</td>            <td>AIC:</td>          <td>4177.8424</td>\n",
              "</tr>\n",
              "<tr>\n",
              "         <td>Date:</td>        <td>2022-02-18 00:06</td>        <td>BIC:</td>          <td>4184.4391</td>\n",
              "</tr>\n",
              "<tr>\n",
              "   <td>No. Observations:</td>         <td>200</td>         <td>Log-Likelihood:</td>     <td>-2086.9</td> \n",
              "</tr>\n",
              "<tr>\n",
              "       <td>Df Model:</td>              <td>1</td>           <td>F-statistic:</td>        <td>12.43</td>  \n",
              "</tr>\n",
              "<tr>\n",
              "     <td>Df Residuals:</td>           <td>198</td>       <td>Prob (F-statistic):</td>  <td>0.000524</td> \n",
              "</tr>\n",
              "<tr>\n",
              "      <td>R-squared:</td>            <td>0.059</td>            <td>Scale:</td>        <td>6.8434e+07</td>\n",
              "</tr>\n",
              "</table>\n",
              "<table class=\"simpletable\">\n",
              "<tr>\n",
              "        <td></td>           <th>Coef.</th>   <th>Std.Err.</th>     <th>t</th>     <th>P>|t|</th>   <th>[0.025</th>     <th>0.975]</th>  \n",
              "</tr>\n",
              "<tr>\n",
              "  <th>Intercept</th>     <td>37323.7106</td> <td>848.7412</td>  <td>43.9754</td> <td>0.0000</td> <td>35649.9782</td> <td>38997.4430</td>\n",
              "</tr>\n",
              "<tr>\n",
              "  <th>sexo[T.Mujer]</th> <td>-4130.0809</td> <td>1171.3741</td> <td>-3.5258</td> <td>0.0005</td> <td>-6440.0511</td> <td>-1820.1107</td>\n",
              "</tr>\n",
              "</table>\n",
              "<table class=\"simpletable\">\n",
              "<tr>\n",
              "     <td>Omnibus:</td>    <td>13.506</td>  <td>Durbin-Watson:</td>    <td>2.108</td>\n",
              "</tr>\n",
              "<tr>\n",
              "  <td>Prob(Omnibus):</td>  <td>0.001</td> <td>Jarque-Bera (JB):</td> <td>15.725</td>\n",
              "</tr>\n",
              "<tr>\n",
              "       <td>Skew:</td>      <td>0.520</td>     <td>Prob(JB):</td>      <td>0.000</td>\n",
              "</tr>\n",
              "<tr>\n",
              "     <td>Kurtosis:</td>    <td>3.896</td>  <td>Condition No.:</td>      <td>3</td>  \n",
              "</tr>\n",
              "</table>"
            ],
            "text/plain": [
              "<class 'statsmodels.iolib.summary2.Summary'>\n",
              "\"\"\"\n",
              "                    Results: Ordinary least squares\n",
              "=======================================================================\n",
              "Model:                OLS               Adj. R-squared:      0.054     \n",
              "Dependent Variable:   salario           AIC:                 4177.8424 \n",
              "Date:                 2022-02-18 00:06  BIC:                 4184.4391 \n",
              "No. Observations:     200               Log-Likelihood:      -2086.9   \n",
              "Df Model:             1                 F-statistic:         12.43     \n",
              "Df Residuals:         198               Prob (F-statistic):  0.000524  \n",
              "R-squared:            0.059             Scale:               6.8434e+07\n",
              "-----------------------------------------------------------------------\n",
              "                Coef.     Std.Err.    t    P>|t|    [0.025     0.975]  \n",
              "-----------------------------------------------------------------------\n",
              "Intercept     37323.7106  848.7412 43.9754 0.0000 35649.9782 38997.4430\n",
              "sexo[T.Mujer] -4130.0809 1171.3741 -3.5258 0.0005 -6440.0511 -1820.1107\n",
              "-----------------------------------------------------------------------\n",
              "Omnibus:                13.506         Durbin-Watson:            2.108 \n",
              "Prob(Omnibus):          0.001          Jarque-Bera (JB):         15.725\n",
              "Skew:                   0.520          Prob(JB):                 0.000 \n",
              "Kurtosis:               3.896          Condition No.:            3     \n",
              "=======================================================================\n",
              "\n",
              "\"\"\""
            ]
          },
          "metadata": {},
          "execution_count": 21
        }
      ],
      "source": [
        "uncontrolled_model = smf.ols(\"salario ~ sexo\", data=data).fit()\n",
        "uncontrolled_model.summary2()"
      ]
    },
    {
      "cell_type": "markdown",
      "metadata": {
        "id": "ScuEzN6mYCVI"
      },
      "source": [
        "Haz una regresión lineal `salario ~ sexo + puesto`.\n",
        "\n",
        "Ahora, compara el coeficiente (pendiente) de la variable categórica `sexo` con el resultado _ponderado_ que habías obtenido arriba (tal vez no sea exactamente el mismo).\n",
        "\n",
        "¿Las diferencias son (estadísticamente) significativas?"
      ]
    },
    {
      "cell_type": "markdown",
      "metadata": {
        "id": "HlOcZe2X1NDh"
      },
      "source": [
        "**Tu respuesta:**"
      ]
    },
    {
      "cell_type": "code",
      "execution_count": 22,
      "metadata": {
        "colab": {
          "base_uri": "https://localhost:8080/",
          "height": 343
        },
        "id": "423oBK-oP-sz",
        "outputId": "4521cc6d-3e2e-49a3-e3dc-ae9c119a6e5d"
      },
      "outputs": [
        {
          "output_type": "execute_result",
          "data": {
            "text/html": [
              "<table class=\"simpletable\">\n",
              "<tr>\n",
              "        <td>Model:</td>               <td>OLS</td>         <td>Adj. R-squared:</td>      <td>0.591</td>  \n",
              "</tr>\n",
              "<tr>\n",
              "  <td>Dependent Variable:</td>      <td>salario</td>            <td>AIC:</td>          <td>4011.0757</td>\n",
              "</tr>\n",
              "<tr>\n",
              "         <td>Date:</td>        <td>2022-02-18 00:06</td>        <td>BIC:</td>          <td>4020.9707</td>\n",
              "</tr>\n",
              "<tr>\n",
              "   <td>No. Observations:</td>         <td>200</td>         <td>Log-Likelihood:</td>     <td>-2002.5</td> \n",
              "</tr>\n",
              "<tr>\n",
              "       <td>Df Model:</td>              <td>2</td>           <td>F-statistic:</td>        <td>144.9</td>  \n",
              "</tr>\n",
              "<tr>\n",
              "     <td>Df Residuals:</td>           <td>197</td>       <td>Prob (F-statistic):</td>  <td>1.98e-39</td> \n",
              "</tr>\n",
              "<tr>\n",
              "      <td>R-squared:</td>            <td>0.595</td>            <td>Scale:</td>        <td>2.9580e+07</td>\n",
              "</tr>\n",
              "</table>\n",
              "<table class=\"simpletable\">\n",
              "<tr>\n",
              "             <td></td>               <th>Coef.</th>    <th>Std.Err.</th>     <th>t</th>     <th>P>|t|</th>   <th>[0.025</th>      <th>0.975]</th>   \n",
              "</tr>\n",
              "<tr>\n",
              "  <th>Intercept</th>              <td>45648.8649</td>  <td>759.5002</td>  <td>60.1038</td> <td>0.0000</td> <td>44151.0704</td>  <td>47146.6594</td> \n",
              "</tr>\n",
              "<tr>\n",
              "  <th>sexo[T.Mujer]</th>           <td>1160.8139</td>  <td>836.8451</td>  <td>1.3871</td>  <td>0.1670</td>  <td>-489.5108</td>   <td>2811.1385</td> \n",
              "</tr>\n",
              "<tr>\n",
              "  <th>puesto[T.No gerencial]</th> <td>-15209.4165</td> <td>941.3004</td> <td>-16.1579</td> <td>0.0000</td> <td>-17065.7352</td> <td>-13353.0978</td>\n",
              "</tr>\n",
              "</table>\n",
              "<table class=\"simpletable\">\n",
              "<tr>\n",
              "     <td>Omnibus:</td>    <td>5.588</td>  <td>Durbin-Watson:</td>   <td>1.809</td>\n",
              "</tr>\n",
              "<tr>\n",
              "  <td>Prob(Omnibus):</td> <td>0.061</td> <td>Jarque-Bera (JB):</td> <td>8.377</td>\n",
              "</tr>\n",
              "<tr>\n",
              "       <td>Skew:</td>     <td>0.001</td>     <td>Prob(JB):</td>     <td>0.015</td>\n",
              "</tr>\n",
              "<tr>\n",
              "     <td>Kurtosis:</td>   <td>4.003</td>  <td>Condition No.:</td>     <td>4</td>  \n",
              "</tr>\n",
              "</table>"
            ],
            "text/plain": [
              "<class 'statsmodels.iolib.summary2.Summary'>\n",
              "\"\"\"\n",
              "                          Results: Ordinary least squares\n",
              "===================================================================================\n",
              "Model:                    OLS                   Adj. R-squared:          0.591     \n",
              "Dependent Variable:       salario               AIC:                     4011.0757 \n",
              "Date:                     2022-02-18 00:06      BIC:                     4020.9707 \n",
              "No. Observations:         200                   Log-Likelihood:          -2002.5   \n",
              "Df Model:                 2                     F-statistic:             144.9     \n",
              "Df Residuals:             197                   Prob (F-statistic):      1.98e-39  \n",
              "R-squared:                0.595                 Scale:                   2.9580e+07\n",
              "-----------------------------------------------------------------------------------\n",
              "                          Coef.    Std.Err.    t     P>|t|     [0.025      0.975]  \n",
              "-----------------------------------------------------------------------------------\n",
              "Intercept               45648.8649 759.5002  60.1038 0.0000  44151.0704  47146.6594\n",
              "sexo[T.Mujer]            1160.8139 836.8451   1.3871 0.1670   -489.5108   2811.1385\n",
              "puesto[T.No gerencial] -15209.4165 941.3004 -16.1579 0.0000 -17065.7352 -13353.0978\n",
              "-----------------------------------------------------------------------------------\n",
              "Omnibus:                    5.588              Durbin-Watson:                 1.809\n",
              "Prob(Omnibus):              0.061              Jarque-Bera (JB):              8.377\n",
              "Skew:                       0.001              Prob(JB):                      0.015\n",
              "Kurtosis:                   4.003              Condition No.:                 4    \n",
              "===================================================================================\n",
              "\n",
              "\"\"\""
            ]
          },
          "metadata": {},
          "execution_count": 22
        }
      ],
      "source": [
        "controlled_model = smf.ols(\"salario ~ sexo + puesto\", data=data).fit()\n",
        "controlled_model.summary2()"
      ]
    },
    {
      "cell_type": "markdown",
      "metadata": {
        "id": "mmZox2G3bZJn"
      },
      "source": [
        "# Análisis con _Bootstrap_"
      ]
    },
    {
      "cell_type": "markdown",
      "metadata": {
        "id": "ygP6Ifm-jaYz"
      },
      "source": [
        "Analiza el siguiente código para contestar las siguientes preguntas:\n",
        "\n",
        "- ¿Qué regresa la función `estimate_statistic`?\n",
        "- ¿Qué hace la línea 10 del código de la siguiente celda?\n",
        "- Compara el valor de la variable `mean_difference` con los resultados obtenidos en las secciones anteriores.\n",
        "- ¿Cómo se interpreta el intervalo $[\\mathrm{LL}, \\mathrm{UU}]$?\n",
        "- ¿Cuántos elementos tiene el arreglo `bootstrap_statistcs` y por qué su histograma tiende a una distribución normal?\n",
        "\n"
      ]
    },
    {
      "cell_type": "markdown",
      "metadata": {
        "id": "cJ4P8pCWyhXX"
      },
      "source": [
        "**Tu respuesta:**"
      ]
    },
    {
      "cell_type": "code",
      "execution_count": 23,
      "metadata": {
        "colab": {
          "base_uri": "https://localhost:8080/"
        },
        "id": "p-BHmzlFbcBd",
        "outputId": "0b84fcff-f76f-4fae-f951-7c6e77cd422d"
      },
      "outputs": [
        {
          "output_type": "stream",
          "name": "stderr",
          "text": [
            "100%|██████████| 10000/10000 [01:25<00:00, 116.68it/s]\n"
          ]
        }
      ],
      "source": [
        "def estimate_statistic(bootstrap_sample):\n",
        "  return smf.ols(\"salario ~ sexo\", data=bootstrap_sample).fit().params[1]\n",
        "\n",
        "\n",
        "N_bootstraps = 10_000\n",
        "bootstrap_statistics = []\n",
        "\n",
        "\n",
        "for _ in tqdm(range(N_bootstraps)):\n",
        "  bootstrap_sample = data.sample(n=len(data), replace=True)\n",
        "  statistic = estimate_statistic(bootstrap_sample)\n",
        "  bootstrap_statistics.append(statistic)\n",
        "\n",
        "bootstrap_statistics = np.array(bootstrap_statistics)\n",
        "mean_difference = np.mean(bootstrap_statistics)\n",
        "LL, UU = np.quantile(bootstrap_statistics, 0.025), np.quantile(bootstrap_statistics, 0.975)"
      ]
    },
    {
      "cell_type": "code",
      "execution_count": 24,
      "metadata": {
        "colab": {
          "base_uri": "https://localhost:8080/",
          "height": 282
        },
        "id": "UmM7xLU0dIe_",
        "outputId": "8665ba58-394e-4c41-f1a1-9b5f84f3f852"
      },
      "outputs": [
        {
          "output_type": "execute_result",
          "data": {
            "text/plain": [
              "<matplotlib.axes._subplots.AxesSubplot at 0x7faacec20c10>"
            ]
          },
          "metadata": {},
          "execution_count": 24
        },
        {
          "output_type": "display_data",
          "data": {
            "image/png": "[encoded data removed]",
            "text/plain": [
              "<Figure size 432x288 with 1 Axes>"
            ]
          },
          "metadata": {
            "needs_background": "light"
          }
        }
      ],
      "source": [
        "plt.plot([LL, UU], [0, 0], color=\"yellow\", lw=5)\n",
        "plt.plot([mean_difference, mean_difference], [0, 10], color=\"red\")\n",
        "sns.histplot(data=bootstrap_statistics, bins=30, kde=True)"
      ]
    },
    {
      "cell_type": "code",
      "execution_count": 25,
      "metadata": {
        "colab": {
          "base_uri": "https://localhost:8080/"
        },
        "id": "DkYnbdRSdPvM",
        "outputId": "f02b0e11-203e-4d34-8e75-b1d1ea0e1109"
      },
      "outputs": [
        {
          "output_type": "stream",
          "name": "stdout",
          "text": [
            "\n",
            "El valor estimado por remuestreo con reemplazo es $-4,136.90.\n",
            "Con un intervalo de confianza de bootstrap de [$-6,418.93, -1,795.90] al 95 %.\n",
            "\n"
          ]
        }
      ],
      "source": [
        "print(f\"\"\"\n",
        "El valor estimado por remuestreo con reemplazo es ${mean_difference:,.2f}.\n",
        "Con un intervalo de confianza de bootstrap de [${LL:,.2f}, {UU:,.2f}] al 95 %.\n",
        "\"\"\")"
      ]
    }
  ],
  "metadata": {
    "colab": {
      "collapsed_sections": [],
      "name": "Causal_Inference_A22_Ex01_Solution.ipynb",
      "provenance": [],
      "toc_visible": true,
      "include_colab_link": true
    },
    "kernelspec": {
      "display_name": "Python 3",
      "name": "python3"
    },
    "language_info": {
      "name": "python"
    }
  },
  "nbformat": 4,
  "nbformat_minor": 0
}