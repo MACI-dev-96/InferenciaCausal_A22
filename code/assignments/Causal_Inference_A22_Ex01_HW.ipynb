{
  "cells": [
    {
      "cell_type": "markdown",
      "metadata": {
        "id": "view-in-github"
      },
      "source": [
        "<a href=\"https://colab.research.google.com/github/ccaballeroh/InferenciaCausal_A22/blob/main/notebooks/assignments/Causal_Inference_A22_Ex01_HW.ipynb\" target=\"_parent\"><img src=\"https://colab.research.google.com/assets/colab-badge.svg\" alt=\"Open In Colab\"/></a>"
      ]
    },
    {
      "cell_type": "markdown",
      "source": [
        "En esta celda escribe tu nombre y tu programa (ESCOM, MCC, MCIC o DCC)"
      ],
      "metadata": {
        "id": "VsP4pGCFPXhZ"
      }
    },
    {
      "cell_type": "markdown",
      "metadata": {
        "id": "RVQLujIS1K50"
      },
      "source": [
        "# Análisis de salarios entre hombres y mujeres"
      ]
    },
    {
      "cell_type": "markdown",
      "metadata": {
        "id": "IAaEVoM5lxj4"
      },
      "source": [
        "Supongamos que trabajamos como Data Scientists en una empresa y se nos proporciona un conjunto de datos sobre los salarios entre hombres y mujeres en la compañía.\n",
        "\n",
        "Con este conjunto de datos se nos pide contestar ¿cuál es la brecha de paga entre hombres y mujeres en la empresa?"
      ]
    },
    {
      "cell_type": "markdown",
      "metadata": {
        "id": "IDol42GFYacy"
      },
      "source": [
        "## Preliminares\n",
        "\n",
        "Importa los módulos/paquetes necesarios."
      ]
    },
    {
      "cell_type": "code",
      "execution_count": null,
      "metadata": {
        "id": "uDrm6pj9UZRW"
      },
      "outputs": [],
      "source": [
        "import pandas as pd\n",
        "import numpy as np\n",
        "import matplotlib.pyplot as plt\n",
        "import seaborn as sns\n",
        "import statsmodels.formula.api as smf\n",
        "from tqdm import tqdm"
      ]
    },
    {
      "cell_type": "markdown",
      "metadata": {
        "id": "e1X1bOlGYf8k"
      },
      "source": [
        "Definición de funciones auxiliares usadas."
      ]
    },
    {
      "cell_type": "code",
      "execution_count": null,
      "metadata": {
        "id": "QFRLK1U9Wcv4"
      },
      "outputs": [],
      "source": [
        "def generate_data(**kwargs):\n",
        "  raise NotImplementedError\n",
        "\n",
        "def read_data(**kwargs):\n",
        "  csv_filename = kwargs[\"csv_filename\"]\n",
        "  return pd.read_csv(csv_filename, index_col=0)"
      ]
    },
    {
      "cell_type": "markdown",
      "metadata": {
        "id": "GETJM-2w1f_C"
      },
      "source": [
        "La variable `ENV` debe tener valor `\"HW\"` cuando está en modo de tarea."
      ]
    },
    {
      "cell_type": "code",
      "execution_count": null,
      "metadata": {
        "id": "Fomz9yeUy_DY"
      },
      "outputs": [],
      "source": [
        "ENV = \"HW\""
      ]
    },
    {
      "cell_type": "code",
      "execution_count": null,
      "metadata": {
        "id": "OfB69KVTwMLV"
      },
      "outputs": [],
      "source": [
        "get_data = read_data if ENV == \"HW\" else generate_data"
      ]
    },
    {
      "cell_type": "markdown",
      "metadata": {
        "id": "05dBtcORYk07"
      },
      "source": [
        "## Inicio"
      ]
    },
    {
      "cell_type": "markdown",
      "metadata": {
        "id": "lvzKEDgm14c7"
      },
      "source": [
        "Lee los datos desde el archivo `ex_01_wages.csv` con la función `read_data` definida arriba."
      ]
    },
    {
      "cell_type": "code",
      "execution_count": null,
      "metadata": {
        "id": "3rXB-0s8v89F"
      },
      "outputs": [],
      "source": [
        "kwargs = {\n",
        "    \"csv_filename\": \"https://raw.githubusercontent.com/ccaballeroh/InferenciaCausal_A22/main/datasets/ex_01_wages.csv\"\n",
        "}\n",
        "\n",
        "data = get_data(**kwargs)\n",
        "\n",
        "if not ENV == \"HW\":\n",
        "  data.to_csv(\"ex_01_wages.csv\")"
      ]
    },
    {
      "cell_type": "markdown",
      "metadata": {
        "id": "boOV-ONo2Mm8"
      },
      "source": [
        "## Análisis exploratorio de datos"
      ]
    },
    {
      "cell_type": "markdown",
      "metadata": {
        "id": "6RwMG1Y92RRi"
      },
      "source": [
        "Veamos las primeras líneas del conjunto de datos guardado en el DataFrame llamado `data`."
      ]
    },
    {
      "cell_type": "code",
      "execution_count": null,
      "metadata": {
        "id": "1BRh_SiHyDlZ"
      },
      "outputs": [],
      "source": [
        "# Llama el método `head()` del DataFrame"
      ]
    },
    {
      "cell_type": "markdown",
      "metadata": {
        "id": "9WUM66qi2deO"
      },
      "source": [
        "Imprime el tipo de dato de las columnas de `data`."
      ]
    },
    {
      "cell_type": "code",
      "execution_count": null,
      "metadata": {
        "id": "FeLDbfYi2jDF"
      },
      "outputs": [],
      "source": [
        "# Llama el atributo `dtypes` del DataFrame"
      ]
    },
    {
      "cell_type": "markdown",
      "metadata": {
        "id": "PbhF80wj3Dmd"
      },
      "source": [
        "Imprime el resumen del conjunto de datos."
      ]
    },
    {
      "cell_type": "code",
      "execution_count": null,
      "metadata": {
        "id": "Jn0JxWts0wPK"
      },
      "outputs": [],
      "source": [
        "# Llama al método `describe()` con el argumento `include=['object', 'float', 'int]`"
      ]
    },
    {
      "cell_type": "markdown",
      "metadata": {
        "id": "hNBuaf3n3Jxy"
      },
      "source": [
        "Haz una gráfica de caja de `salario` por `sexo`."
      ]
    },
    {
      "cell_type": "code",
      "execution_count": null,
      "metadata": {
        "id": "13Kk9jyckt4O"
      },
      "outputs": [],
      "source": [
        "# Utiliza `catplot` de Seaborn"
      ]
    },
    {
      "cell_type": "markdown",
      "metadata": {
        "id": "_ToUeAIP3we_"
      },
      "source": [
        "¿Qué opinas sobre si hay o no diferencia salarial entre hombres y mujeres?"
      ]
    },
    {
      "cell_type": "markdown",
      "metadata": {
        "id": "4GdK8SZi35co"
      },
      "source": [
        "Tu respuesta:"
      ]
    },
    {
      "cell_type": "markdown",
      "metadata": {
        "id": "04JREz4K3PNt"
      },
      "source": [
        "Ahora, haz una gráfica de caja de `salario` por `sexo` separando por la tercera variable `puesto`."
      ]
    },
    {
      "cell_type": "code",
      "execution_count": null,
      "metadata": {
        "id": "100f6FZPWsU2"
      },
      "outputs": [],
      "source": [
        "# Utiliza `catplot`"
      ]
    },
    {
      "cell_type": "markdown",
      "metadata": {
        "id": "hzNZMwsj3hR2"
      },
      "source": [
        "¿Cambió tu opinión? ¿Hay diferencia entre hombres y mujeres comparando por el mismo tipo de puesto?"
      ]
    },
    {
      "cell_type": "markdown",
      "metadata": {
        "id": "71_LwjuE4dkT"
      },
      "source": [
        "Tu respuesta:"
      ]
    },
    {
      "cell_type": "markdown",
      "metadata": {
        "id": "pmhAbPXo4gmI"
      },
      "source": [
        "Ahora, haz una gráfica categórica de tipo `swarm` usando `catplot` de Seaborn. En el eje de las equis coloca el `puesto`; en el de las ye, `salario` y separa por `sexo`. "
      ]
    },
    {
      "cell_type": "code",
      "execution_count": null,
      "metadata": {
        "id": "wE0y1U-UY-1j"
      },
      "outputs": [],
      "source": [
        "# Tu código"
      ]
    },
    {
      "cell_type": "markdown",
      "metadata": {
        "id": "FAH2k-HH5dzW"
      },
      "source": [
        "¿Es mucha la diferencia en salario entre gerentes y no gerentes?"
      ]
    },
    {
      "cell_type": "markdown",
      "metadata": {
        "id": "oO-UFHHcgMk4"
      },
      "source": [
        "Tu respuesta:"
      ]
    },
    {
      "cell_type": "markdown",
      "metadata": {
        "id": "E0C2EHZq5lP-"
      },
      "source": [
        "Ahora haz la misma gráfica, pero invierte las variables para las equis y el _hue_."
      ]
    },
    {
      "cell_type": "code",
      "execution_count": null,
      "metadata": {
        "id": "mczugpBeQIPD"
      },
      "outputs": [],
      "source": [
        "# Tu código"
      ]
    },
    {
      "cell_type": "markdown",
      "metadata": {
        "id": "qYXEBlRJ5V9_"
      },
      "source": [
        "¿Hay más o menos mujeres que hombres en puestos altos? ¿Y en puestos bajos?"
      ]
    },
    {
      "cell_type": "markdown",
      "metadata": {
        "id": "np_JblnZ5zRm"
      },
      "source": [
        "Genera una tabla de contingencia para el salario promedio y otra para el número total de personas en cada combinación de categorías."
      ]
    },
    {
      "cell_type": "code",
      "execution_count": null,
      "metadata": {
        "id": "yqk1QZYcammq"
      },
      "outputs": [],
      "source": [
        "# Utiliza `crosstab` de Pandas con la función de agregación `mean` de Numpy"
      ]
    },
    {
      "cell_type": "code",
      "execution_count": null,
      "metadata": {
        "id": "45miQQo6eO8H"
      },
      "outputs": [],
      "source": [
        "# Utiliza `crosstab` de Pandas. Pasa `True` al parámetro `margins`"
      ]
    },
    {
      "cell_type": "markdown",
      "metadata": {
        "id": "q9cSe7tL6OfS"
      },
      "source": [
        "## Pregunta de análisis\n",
        "\n",
        "Para este conjunto de datos, se nos pide determinar la brecha salarial entre hombres y mujeres en la empresa en la que se recolectaron estos datos.\n",
        "\n",
        "- Antes de continuar, usa las tablas de contingencia anteriores para intentar contestar la pregunta."
      ]
    },
    {
      "cell_type": "markdown",
      "metadata": {
        "id": "8MyQJIV57Grz"
      },
      "source": [
        "## Análisis guiado"
      ]
    },
    {
      "cell_type": "markdown",
      "metadata": {
        "id": "RSdaOlHFfvr4"
      },
      "source": [
        "## 1. Calcula el salario promedio de mujeres y hombres\n",
        "\n",
        "- Calcula el salario promedio de las mujeres\n",
        "- Calcula el salario promedio de los hombres\n",
        "- Saca la diferencia\n",
        "\n",
        "¿Quién gana más?"
      ]
    },
    {
      "cell_type": "code",
      "execution_count": null,
      "metadata": {
        "id": "lp5caeWUepRe"
      },
      "outputs": [],
      "source": [
        "## tu código\n",
        "\n",
        "promedio_mujeres = 0.0\n",
        "promedio_hombres = 0.0\n",
        "\n",
        "##\n",
        "\n",
        "print(f\"\"\"\n",
        "Las mujeres ganan en promedio: ${promedio_mujeres:,.2f}\n",
        "Los hombres ganan en promedio: ${promedio_hombres:,.2f}\n",
        "\n",
        "La diferencia es ${promedio_mujeres - promedio_hombres:,.2f}\n",
        "\"\"\")"
      ]
    },
    {
      "cell_type": "markdown",
      "metadata": {
        "id": "pGMOvsOXhVJV"
      },
      "source": [
        "## 2. Ahora compara por estratos\n",
        "\n",
        "- Compara por categoría `puesto` de forma separada.\n",
        "\n",
        "- ¿Ahora, cuál es la diferencia salarial en cada categoría?\n",
        "\n",
        "- ¿Quién gana más en cada tipo de puesto?"
      ]
    },
    {
      "cell_type": "code",
      "execution_count": null,
      "metadata": {
        "id": "oH5YgNnTNzPS"
      },
      "outputs": [],
      "source": [
        "## Tu código\n",
        "## Utiliza `groupby` para sacar el promedio salarial por puesto y sexo\n",
        "## también cuenta la ocurrencia de cada combinación de categorías (i.e., \n",
        "## Gerencia y Hombre, Gerencial y Mujer, etc.)\n",
        "\n",
        "\n",
        "data_grpd = data.groupby( )\\\n",
        "                .agg()\\\n",
        "                .rename()\n",
        "\n",
        "##\n",
        "\n",
        "data_grpd"
      ]
    },
    {
      "cell_type": "code",
      "execution_count": null,
      "metadata": {
        "id": "2QRyWNdwqrbc"
      },
      "outputs": [],
      "source": [
        "promedio_mujeres_gerentes = data_grpd.loc[\n",
        "                                          [(\"Gerencial\", \"Mujer\")],\n",
        "                                          \"salario\"\n",
        "                                          ].values\n",
        "promedio_hombres_gerentes = data_grpd.loc[\n",
        "                                          [(\"Gerencial\", \"Hombre\")],\n",
        "                                          \"salario\"\n",
        "                                          ].values\n",
        "diferencia_gerentes = (promedio_mujeres_gerentes - promedio_hombres_gerentes)[0]\n",
        "\n",
        "print(f\"\"\"\n",
        "Las mujeres gerentes ganan en promedio: ${promedio_mujeres_gerentes[0]:,.2f}\n",
        "Los hombres gerentes ganan en promedio: ${promedio_hombres_gerentes[0]:,.2f}\n",
        "\n",
        "La diferencia es ${diferencia_gerentes:,.2f}\n",
        "\"\"\")"
      ]
    },
    {
      "cell_type": "code",
      "execution_count": null,
      "metadata": {
        "id": "x-vl0d6KrJvX"
      },
      "outputs": [],
      "source": [
        "promedio_mujeres_no_gerentes = data_grpd.loc[\n",
        "                                             [(\"No gerencial\", \"Mujer\")],\n",
        "                                             \"salario\"].values\n",
        "promedio_hombres_no_gerentes = data_grpd.loc[\n",
        "                                             [(\"No gerencial\", \"Hombre\")],\n",
        "                                             \"salario\"\n",
        "                                             ].values\n",
        "diferencia_no_gerentes = (promedio_mujeres_no_gerentes -\n",
        "                          promedio_hombres_no_gerentes)[0]\n",
        "\n",
        "print(f\"\"\"\n",
        "Las mujeres gerentes ganan en promedio: ${promedio_mujeres_no_gerentes[0]:,.2f}\n",
        "Los hombres gerentes ganan en promedio: ${promedio_hombres_no_gerentes[0]:,.2f}\n",
        "\n",
        "La diferencia es ${diferencia_no_gerentes:,.2f}\n",
        "\"\"\")"
      ]
    },
    {
      "cell_type": "markdown",
      "metadata": {
        "id": "8MpB2jWPXXcS"
      },
      "source": [
        "## Opcional\n",
        "\n",
        "Haz una suma ponderada por la cantidad de gerentes de las diferencias anteriores."
      ]
    },
    {
      "cell_type": "code",
      "execution_count": null,
      "metadata": {
        "id": "FNy0JO_ErUcj"
      },
      "outputs": [],
      "source": [
        "## Tu código\n",
        "diferencia_ponderada = None\n",
        "\n",
        "##\n",
        "\n",
        "print(f\"La diferencia ponderada es: ${diferencia_ponderada:,.2f}\")"
      ]
    },
    {
      "cell_type": "markdown",
      "metadata": {
        "id": "df6DtJM_Z4iP"
      },
      "source": [
        "## Reflexión\n",
        "\n",
        "- ¿Qué crees que sea lo que esté sucediendo?\n",
        "- ¿Cómo es posible que al ver cada tipo de puesto la diferencia favorezca a un sexo, pero al ver la población entera la preferencia se invierte?\n",
        "- Si las etiquetas de los datos fueran `estilo de vida`, `puesto` y `salario`, ¿cambiaría tu respuesta?"
      ]
    },
    {
      "cell_type": "markdown",
      "metadata": {
        "id": "5rzD9W3BXc0-"
      },
      "source": [
        "# Análisis estadístico de diferencias de medias"
      ]
    },
    {
      "cell_type": "markdown",
      "metadata": {
        "id": "DxJ9zRFbXi6t"
      },
      "source": [
        "Haz una regresión lineal `salario ~ sexo`.\n",
        "\n",
        "Compara el coeficiente (pendiente) de la variable categórica `sexo` con el resultado que habías obtenido arriba.\n",
        "\n",
        "¿Las diferencias son (estadísticamente) significativas?"
      ]
    },
    {
      "cell_type": "code",
      "execution_count": null,
      "metadata": {
        "id": "0Z9qFUKTsR02"
      },
      "outputs": [],
      "source": [
        "uncontrolled_model = smf.ols(\"salario ~ sexo\", data=data).fit()\n",
        "uncontrolled_model.summary2()"
      ]
    },
    {
      "cell_type": "markdown",
      "metadata": {
        "id": "ScuEzN6mYCVI"
      },
      "source": [
        "Haz una regresión lineal `salario ~ sexo + puesto`.\n",
        "\n",
        "Ahora, compara el coeficiente (pendiente) de la variable categórica `sexo` con el resultado _ponderado_ que habías obtenido arriba (tal vez no sea exactamente el mismo).\n",
        "\n",
        "¿Las diferencias son (estadísticamente) significativas?"
      ]
    },
    {
      "cell_type": "code",
      "execution_count": null,
      "metadata": {
        "id": "423oBK-oP-sz"
      },
      "outputs": [],
      "source": [
        "controlled_model = smf.ols(\"salario ~ sexo + puesto\", data=data).fit()\n",
        "controlled_model.summary2()"
      ]
    },
    {
      "cell_type": "markdown",
      "metadata": {
        "id": "mmZox2G3bZJn"
      },
      "source": [
        "# Análisis con _Bootstrap_"
      ]
    },
    {
      "cell_type": "markdown",
      "metadata": {
        "id": "ygP6Ifm-jaYz"
      },
      "source": [
        "Analiza el siguiente código para contestar las siguientes preguntas:\n",
        "\n",
        "- ¿Qué regresa la función `estimate_statistic`?\n",
        "- ¿Qué hace la línea 10 del código de la siguiente celda?\n",
        "- Compara el valor de la variable `mean_difference` con los resultados obtenidos en las secciones anteriores.\n",
        "- ¿Cómo se interpreta el intervalo $[\\mathrm{LL}, \\mathrm{UU}]$?\n",
        "- ¿Cuántos elementos tiene el arreglo `bootstrap_statistcs` y por qué su histograma tiende a una distribución normal?\n",
        "\n"
      ]
    },
    {
      "cell_type": "code",
      "execution_count": null,
      "metadata": {
        "id": "p-BHmzlFbcBd"
      },
      "outputs": [],
      "source": [
        "def estimate_statistic(bootstrap_sample):\n",
        "  return smf.ols(\"salario ~ sexo\", data=bootstrap_sample).fit().params[1]\n",
        "\n",
        "\n",
        "N_bootstraps = 10_000\n",
        "bootstrap_statistics = []\n",
        "\n",
        "\n",
        "for _ in tqdm(range(N_bootstraps)):\n",
        "  bootstrap_sample = data.sample(n=len(data), replace=True)\n",
        "  statistic = estimate_statistic(bootstrap_sample)\n",
        "  bootstrap_statistics.append(statistic)\n",
        "\n",
        "bootstrap_statistics = np.array(bootstrap_statistics)\n",
        "mean_difference = np.mean(bootstrap_statistics)\n",
        "LL, UU = np.quantile(bootstrap_statistics, 0.025), np.quantile(bootstrap_statistics, 0.975)"
      ]
    },
    {
      "cell_type": "code",
      "execution_count": null,
      "metadata": {
        "id": "UmM7xLU0dIe_"
      },
      "outputs": [],
      "source": [
        "plt.plot([LL, UU], [0, 0], color=\"yellow\", lw=5)\n",
        "plt.plot([mean_difference, mean_difference], [0, 10], color=\"red\")\n",
        "sns.histplot(data=bootstrap_statistics, bins=30, kde=True)"
      ]
    },
    {
      "cell_type": "code",
      "execution_count": null,
      "metadata": {
        "id": "DkYnbdRSdPvM"
      },
      "outputs": [],
      "source": [
        "print(f\"\"\"\n",
        "El valor estimado por remuestreo con reemplazo es ${mean_difference:,.2f}.\n",
        "Con un intervalo de confianza de bootstrap de [${LL:,.2f}, {UU:,.2f}] al 95 %.\n",
        "\"\"\")"
      ]
    }
  ],
  "metadata": {
    "colab": {
      "collapsed_sections": [],
      "name": "Causal_Inference_A22_Ex01_HW.ipynb",
      "provenance": [],
      "toc_visible": true
    },
    "kernelspec": {
      "display_name": "Python 3",
      "name": "python3"
    },
    "language_info": {
      "name": "python"
    }
  },
  "nbformat": 4,
  "nbformat_minor": 0
}